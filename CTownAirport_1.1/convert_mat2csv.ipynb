{
 "cells": [
  {
   "cell_type": "code",
   "execution_count": 1,
   "metadata": {},
   "outputs": [],
   "source": [
    "import scipy\n",
    "import numpy as np\n",
    "import pandas as pd"
   ]
  },
  {
   "cell_type": "code",
   "execution_count": 2,
   "metadata": {},
   "outputs": [],
   "source": [
    "data = scipy.io.loadmat(\"cams_info.mat\")\n",
    "# print(data.keys())\n",
    "# print(data['cams_info'])\n",
    "\n",
    "data_vec = data['cams_info'][0][0][0][0]"
   ]
  },
  {
   "cell_type": "code",
   "execution_count": 3,
   "metadata": {},
   "outputs": [
    {
     "name": "stdout",
     "output_type": "stream",
     "text": [
      "(272, 512, 3)\n",
      "(272, 512)\n",
      "(272, 512)\n",
      "(1, 1)\n"
     ]
    }
   ],
   "source": [
    "print(data_vec[0].shape)\n",
    "print(data_vec[1].shape)\n",
    "print(data_vec[2].shape)\n",
    "print(data_vec[3].shape)\n",
    "\n",
    "\n"
   ]
  },
  {
   "cell_type": "code",
   "execution_count": 4,
   "metadata": {},
   "outputs": [],
   "source": [
    "# print(data_vec[0][0][0][0])"
   ]
  },
  {
   "cell_type": "code",
   "execution_count": 5,
   "metadata": {},
   "outputs": [],
   "source": [
    "data_maps = scipy.io.loadmat(\"kp_gmaps.mat\")"
   ]
  },
  {
   "cell_type": "code",
   "execution_count": 6,
   "metadata": {},
   "outputs": [
    {
     "name": "stdout",
     "output_type": "stream",
     "text": [
      "dict_keys(['__header__', '__version__', '__globals__', 'kp_gmaps'])\n"
     ]
    }
   ],
   "source": [
    "print(data_maps.keys())"
   ]
  },
  {
   "cell_type": "code",
   "execution_count": 7,
   "metadata": {},
   "outputs": [
    {
     "name": "stdout",
     "output_type": "stream",
     "text": [
      "(8, 4)\n"
     ]
    }
   ],
   "source": [
    "data_maps_vec = data_maps['kp_gmaps']\n",
    "print(data_maps_vec.shape)"
   ]
  },
  {
   "cell_type": "code",
   "execution_count": 8,
   "metadata": {},
   "outputs": [
    {
     "name": "stdout",
     "output_type": "stream",
     "text": [
      "(8, 4)\n",
      "[[  12.875  284.875  318.375 1300.125]\n",
      " [ 559.375  277.625  561.625 1301.125]\n",
      " [ 492.625  218.625  588.625  974.125]\n",
      " [ 541.625  283.625  550.125 1316.625]\n",
      " [ 162.125  210.625  380.375  808.375]\n",
      " [  45.625  281.375  331.625 1283.125]\n",
      " [  20.125  281.375  320.375 1282.375]\n",
      " [ 134.375  212.125  358.625  818.625]]\n"
     ]
    }
   ],
   "source": [
    "print(data_maps_vec.shape)\n",
    "print(data_maps_vec)"
   ]
  },
  {
   "cell_type": "code",
   "execution_count": 9,
   "metadata": {},
   "outputs": [
    {
     "name": "stdout",
     "output_type": "stream",
     "text": [
      "dict_keys(['__header__', '__version__', '__globals__', 'class', 'id', 'xyxy'])\n"
     ]
    }
   ],
   "source": [
    "### yolo maps\n",
    "\n",
    "\n",
    "data_yolo = scipy.io.loadmat(\"yolo/yolo_0001.mat\")\n",
    "\n",
    "print(data_yolo.keys())"
   ]
  },
  {
   "cell_type": "code",
   "execution_count": 10,
   "metadata": {},
   "outputs": [
    {
     "name": "stdout",
     "output_type": "stream",
     "text": [
      "(5, 1)\n",
      "(5, 4)\n"
     ]
    }
   ],
   "source": [
    "data_yolo_id = data_yolo['id']\n",
    "data_yolo_xyxy = data_yolo['xyxy']\n",
    "\n",
    "print(data_yolo_id.shape)\n",
    "print(data_yolo_xyxy.shape)"
   ]
  },
  {
   "cell_type": "code",
   "execution_count": 11,
   "metadata": {},
   "outputs": [
    {
     "name": "stdout",
     "output_type": "stream",
     "text": [
      "[1.]\n",
      "[152.01659 228.8963  180.15756 206.96994]\n",
      "[2.]\n",
      "[430.35925 237.89246 457.54767 213.78455]\n"
     ]
    }
   ],
   "source": [
    "print(data_yolo_id[0])\n",
    "print(data_yolo_xyxy[0])\n",
    "\n",
    "print(data_yolo_id[1])\n",
    "print(data_yolo_xyxy[1])"
   ]
  },
  {
   "cell_type": "code",
   "execution_count": 12,
   "metadata": {},
   "outputs": [],
   "source": [
    "## check the elements of a dir\n",
    "import os\n",
    "\n",
    "directory_path = \"yolo\"\n",
    "\n",
    "elements = os.listdir(directory_path)\n",
    "elements = sorted(elements)\n",
    "\n",
    "len_elements = len(elements)\n",
    "\n"
   ]
  },
  {
   "cell_type": "code",
   "execution_count": 24,
   "metadata": {},
   "outputs": [],
   "source": [
    "\n",
    "def load_yolo(directory_path):\n",
    "\n",
    "    elements = os.listdir(directory_path)\n",
    "    elements = sorted(elements)\n",
    "\n",
    "    len_elements = len(elements)\n",
    "\n",
    "\n",
    "    tensor_yolo_id = []\n",
    "    tensor_yolo_xyxy = []\n",
    "\n",
    "    for i, element in enumerate(elements):\n",
    "        data_yolo = scipy.io.loadmat(f\"{directory_path}/{element}\")\n",
    "        \n",
    "        data_yolo_id = data_yolo['id']\n",
    "        data_yolo_xyxy = data_yolo['xyxy']\n",
    "        \n",
    "        tensor_yolo_xyxy.append(data_yolo_xyxy)\n",
    "        tensor_yolo_id.append(data_yolo_id)\n",
    "\n",
    "\n",
    "    np.unique(tensor_yolo_id[0])\n",
    "\n",
    "    unique_ids = np.unique(tensor_yolo_id[0])\n",
    "\n",
    "    for i in range(1, len(tensor_yolo_id)):\n",
    "        unique_ids = np.union1d(unique_ids, np.unique(tensor_yolo_id[i]))\n",
    "\n",
    "    ### determine the coordinates for each id\n",
    "\n",
    "    track_coordinates = {id: [] for id in unique_ids}\n",
    "\n",
    "    for i in range(len(tensor_yolo_id)):\n",
    "        for j in range(len(tensor_yolo_id[i])):\n",
    "            id = tensor_yolo_id[i][j][0]\n",
    "            coordinates = tensor_yolo_xyxy[i][j]\n",
    "            \n",
    "            x_mean = (coordinates[0] + coordinates[2]) / 2.0\n",
    "            y_mean = (coordinates[1] + coordinates[3]) / 2.0\n",
    "            \n",
    "            coords_mean = np.array([x_mean, y_mean, i])\n",
    "            \n",
    "            track_coordinates[id].append(coords_mean)\n",
    "\n",
    "\n",
    "    for key in track_coordinates.keys():\n",
    "        track_coordinates[key] = np.array(track_coordinates[key])\n",
    "\n",
    "    ### key - id\n",
    "    ### value - coordinates, nb_frame\n",
    "    \n",
    "    return track_coordinates\n"
   ]
  },
  {
   "cell_type": "code",
   "execution_count": 25,
   "metadata": {},
   "outputs": [
    {
     "name": "stdout",
     "output_type": "stream",
     "text": [
      "dict_keys([1.0, 2.0, 3.0, 4.0, 5.0, 6.0, 7.0, 8.0, 9.0, 10.0, 12.0, 13.0, 14.0, 15.0])\n"
     ]
    }
   ],
   "source": [
    "directory_path = \"yolo\"\n",
    "\n",
    "track_coordinates = load_yolo(directory_path)\n",
    "\n",
    "print(track_coordinates.keys())"
   ]
  },
  {
   "cell_type": "code",
   "execution_count": 27,
   "metadata": {},
   "outputs": [
    {
     "name": "stdout",
     "output_type": "stream",
     "text": [
      "[[166.08706665 217.93312073   0.        ]\n",
      " [168.83462524 216.39398193   1.        ]\n",
      " [171.17288208 213.74465942   2.        ]\n",
      " [174.32946777 211.73657227   3.        ]\n",
      " [177.77001953 209.65258789   4.        ]\n",
      " [180.14007568 207.57363892   5.        ]\n",
      " [182.88317871 204.97290039   6.        ]\n",
      " [185.47732544 203.07067871   7.        ]\n",
      " [187.69894409 200.85444641   8.        ]\n",
      " [190.00186157 198.98167419   9.        ]\n",
      " [192.20233154 197.39048767  10.        ]\n",
      " [194.21710205 196.14041138  11.        ]\n",
      " [196.75384521 194.33883667  12.        ]\n",
      " [198.43145752 192.60066223  13.        ]\n",
      " [199.98713684 191.20004272  14.        ]\n",
      " [201.90640259 189.64836121  15.        ]\n",
      " [203.50404358 188.47387695  16.        ]\n",
      " [205.17120361 187.56356812  17.        ]\n",
      " [206.33877563 186.08171082  18.        ]\n",
      " [207.81214905 184.77157593  19.        ]\n",
      " [209.59710693 183.27529907  20.        ]\n",
      " [211.13049316 181.8520813   21.        ]\n",
      " [212.55831909 181.31820679  22.        ]\n",
      " [213.74755859 180.28262329  23.        ]\n",
      " [214.84310913 178.87722778  24.        ]\n",
      " [215.64819336 177.19541931  25.        ]\n",
      " [216.58688354 175.98947144  26.        ]\n",
      " [217.88711548 175.2361145   27.        ]\n",
      " [219.21824646 174.26345825  28.        ]\n",
      " [220.58859253 173.3248291   29.        ]\n",
      " [221.7177124  172.48805237  30.        ]\n",
      " [222.8039856  171.78326416  31.        ]\n",
      " [223.76623535 170.75079346  32.        ]\n",
      " [224.65441895 169.8167572   33.        ]\n",
      " [225.80029297 168.87759399  34.        ]\n",
      " [226.61755371 167.77661133  35.        ]\n",
      " [227.57772827 167.0055542   36.        ]\n",
      " [228.48603821 166.55813599  37.        ]\n",
      " [229.63146973 165.78036499  38.        ]\n",
      " [230.7159729  165.34414673  39.        ]\n",
      " [231.60690308 163.81515503  40.        ]\n",
      " [232.3069458  163.26483154  41.        ]\n",
      " [232.66174316 162.74118042  42.        ]\n",
      " [233.00292969 161.96508789  43.        ]\n",
      " [233.80496216 161.16311646  44.        ]\n",
      " [234.50827026 160.61343384  45.        ]\n",
      " [235.75738525 159.9278717   46.        ]\n",
      " [237.05471802 159.51972961  47.        ]\n",
      " [238.38128662 158.73803711  48.        ]\n",
      " [239.42340088 157.99356079  49.        ]\n",
      " [240.07623291 157.71469116  50.        ]\n",
      " [240.85379028 157.39398193  51.        ]\n",
      " [241.50048828 156.9455719   52.        ]\n",
      " [242.4281311  156.33560181  53.        ]\n",
      " [242.98052979 155.97103882  54.        ]\n",
      " [243.43544006 155.7515564   55.        ]\n",
      " [244.09513855 155.65634155  56.        ]\n",
      " [244.90731812 155.47250366  57.        ]\n",
      " [245.5874939  154.93475342  58.        ]\n",
      " [246.85980225 154.44644165  59.        ]\n",
      " [247.71755981 153.74398804  60.        ]\n",
      " [248.20266724 152.80859375  61.        ]\n",
      " [248.84414673 152.15270996  62.        ]\n",
      " [249.68289185 151.69509888  63.        ]\n",
      " [250.19992065 151.32006836  64.        ]\n",
      " [250.88031006 150.92991638  65.        ]\n",
      " [251.42440796 150.59115601  66.        ]\n",
      " [251.93048096 150.16433716  67.        ]\n",
      " [252.62322998 149.5897522   68.        ]\n",
      " [253.45773315 149.36155701  69.        ]\n",
      " [254.38163757 149.07614136  70.        ]\n",
      " [255.66775513 148.55740356  71.        ]\n",
      " [256.54992676 148.3175354   72.        ]\n",
      " [257.15509033 148.10092163  73.        ]\n",
      " [257.54940796 147.55714417  74.        ]\n",
      " [257.85565186 147.31130981  75.        ]\n",
      " [258.43951416 147.15576172  76.        ]\n",
      " [258.91149902 146.80505371  77.        ]\n",
      " [259.18539429 146.67758179  78.        ]\n",
      " [259.91741943 146.94152832  79.        ]]\n"
     ]
    }
   ],
   "source": [
    "print(track_coordinates[1])"
   ]
  },
  {
   "cell_type": "code",
   "execution_count": 41,
   "metadata": {},
   "outputs": [
    {
     "name": "stdout",
     "output_type": "stream",
     "text": [
      "(300, 400, 3)\n",
      "[[[1 1 1]\n",
      "  [1 1 1]\n",
      "  [1 1 1]\n",
      "  ...\n",
      "  [1 1 1]\n",
      "  [1 1 1]\n",
      "  [1 1 1]]\n",
      "\n",
      " [[1 1 1]\n",
      "  [1 1 1]\n",
      "  [1 1 1]\n",
      "  ...\n",
      "  [1 1 1]\n",
      "  [1 1 1]\n",
      "  [1 1 1]]\n",
      "\n",
      " [[1 1 1]\n",
      "  [1 1 1]\n",
      "  [1 1 1]\n",
      "  ...\n",
      "  [1 1 1]\n",
      "  [1 1 1]\n",
      "  [1 1 1]]\n",
      "\n",
      " ...\n",
      "\n",
      " [[1 1 1]\n",
      "  [1 1 1]\n",
      "  [1 1 1]\n",
      "  ...\n",
      "  [1 1 1]\n",
      "  [1 1 1]\n",
      "  [1 1 1]]\n",
      "\n",
      " [[1 1 1]\n",
      "  [1 1 1]\n",
      "  [1 1 1]\n",
      "  ...\n",
      "  [1 1 1]\n",
      "  [1 1 1]\n",
      "  [1 1 1]]\n",
      "\n",
      " [[1 1 1]\n",
      "  [1 1 1]\n",
      "  [1 1 1]\n",
      "  ...\n",
      "  [1 1 1]\n",
      "  [1 1 1]\n",
      "  [1 1 1]]]\n"
     ]
    }
   ],
   "source": [
    "## convert coordinates to image type\n",
    "\n",
    "def coordinates2image(track_coordinates, width, height):\n",
    "\n",
    "    track_coordinates_int = track_coordinates.astype(int)\n",
    "\n",
    "    image = np.ones((height, width, 3), dtype=np.uint8)\n",
    "\n",
    "    for i in range(len(track_coordinates_int)):\n",
    "        x = track_coordinates_int[i][0]\n",
    "        y = track_coordinates_int[i][1]\n",
    "        image[y, x] = 255\n",
    "\n",
    "    return image\n",
    "\n",
    "## image positions\n",
    "width = 400\n",
    "height = 300\n",
    "\n",
    "track_image = coordinates2image(track_coordinates[1], width, height)\n",
    "print(track_image.shape)\n",
    "print(track_image)\n",
    "\n",
    "\n",
    "\n",
    "\n"
   ]
  },
  {
   "cell_type": "code",
   "execution_count": 38,
   "metadata": {},
   "outputs": [],
   "source": [
    "## image airport mao\n",
    "import imageio.v2 as imageio\n",
    "\n",
    "img = imageio.imread(\"airport_CapeTown_aerial.png\")\n",
    "img = np.array(img)"
   ]
  },
  {
   "cell_type": "code",
   "execution_count": 39,
   "metadata": {},
   "outputs": [
    {
     "name": "stdout",
     "output_type": "stream",
     "text": [
      "(1347, 938, 4)\n",
      "[[[191 185 187 255]\n",
      "  [212 210 210 255]\n",
      "  [234 232 233 255]\n",
      "  ...\n",
      "  [ 62 110  98 255]\n",
      "  [ 62 110  98 255]\n",
      "  [ 61 109  97 255]]\n",
      "\n",
      " [[196 192 193 255]\n",
      "  [216 213 214 255]\n",
      "  [235 235 235 255]\n",
      "  ...\n",
      "  [ 63 109  98 255]\n",
      "  [ 62 110  98 255]\n",
      "  [ 61 109  97 255]]\n",
      "\n",
      " [[203 197 199 255]\n",
      "  [220 217 218 255]\n",
      "  [238 236 237 255]\n",
      "  ...\n",
      "  [ 63 109  98 255]\n",
      "  [ 62 110  98 255]\n",
      "  [ 61 109  97 255]]\n",
      "\n",
      " ...\n",
      "\n",
      " [[ 43  43  50 255]\n",
      "  [ 43  42  50 255]\n",
      "  [ 44  43  50 255]\n",
      "  ...\n",
      "  [  0  13  55 255]\n",
      "  [  0  13  55 255]\n",
      "  [  0  13  55 255]]\n",
      "\n",
      " [[ 43  43  50 255]\n",
      "  [ 43  42  50 255]\n",
      "  [ 44  43  50 255]\n",
      "  ...\n",
      "  [  0  13  56 255]\n",
      "  [  0  13  56 255]\n",
      "  [  0  13  56 255]]\n",
      "\n",
      " [[ 43  43  50 255]\n",
      "  [ 43  42  50 255]\n",
      "  [ 44  43  50 255]\n",
      "  ...\n",
      "  [  0  13  57 255]\n",
      "  [  0  13  57 255]\n",
      "  [  0  13  57 255]]]\n"
     ]
    }
   ],
   "source": [
    "print(img.shape)\n",
    "print(img)"
   ]
  },
  {
   "cell_type": "code",
   "execution_count": 43,
   "metadata": {},
   "outputs": [
    {
     "name": "stdout",
     "output_type": "stream",
     "text": [
      "[[[191 185 187 255]\n",
      "  [212 210 210 255]\n",
      "  [234 232 233 255]\n",
      "  ...\n",
      "  [ 62 110  98 255]\n",
      "  [ 62 110  98 255]\n",
      "  [ 61 109  97 255]]\n",
      "\n",
      " [[196 192 193 255]\n",
      "  [216 213 214 255]\n",
      "  [235 235 235 255]\n",
      "  ...\n",
      "  [ 63 109  98 255]\n",
      "  [ 62 110  98 255]\n",
      "  [ 61 109  97 255]]\n",
      "\n",
      " [[203 197 199 255]\n",
      "  [220 217 218 255]\n",
      "  [238 236 237 255]\n",
      "  ...\n",
      "  [ 63 109  98 255]\n",
      "  [ 62 110  98 255]\n",
      "  [ 61 109  97 255]]\n",
      "\n",
      " ...\n",
      "\n",
      " [[ 43  43  50 255]\n",
      "  [ 43  42  50 255]\n",
      "  [ 44  43  50 255]\n",
      "  ...\n",
      "  [  0  13  55 255]\n",
      "  [  0  13  55 255]\n",
      "  [  0  13  55 255]]\n",
      "\n",
      " [[ 43  43  50 255]\n",
      "  [ 43  42  50 255]\n",
      "  [ 44  43  50 255]\n",
      "  ...\n",
      "  [  0  13  56 255]\n",
      "  [  0  13  56 255]\n",
      "  [  0  13  56 255]]\n",
      "\n",
      " [[ 43  43  50 255]\n",
      "  [ 43  42  50 255]\n",
      "  [ 44  43  50 255]\n",
      "  ...\n",
      "  [  0  13  57 255]\n",
      "  [  0  13  57 255]\n",
      "  [  0  13  57 255]]]\n"
     ]
    }
   ],
   "source": [
    "print(img)"
   ]
  },
  {
   "cell_type": "code",
   "execution_count": 6,
   "metadata": {},
   "outputs": [
    {
     "name": "stdout",
     "output_type": "stream",
     "text": [
      "[0, 0, 255]\n",
      "[0, 255, 0]\n",
      "[0, 255, 0]\n",
      "[0, 0, 255]\n"
     ]
    }
   ],
   "source": [
    "from PIL import ImageColor\n",
    "\n",
    "def color_to_rgb(color):\n",
    "    return list(ImageColor.getrgb(color))\n",
    "\n",
    "# Usage\n",
    "print(color_to_rgb(\"blue\"))       # Output: [255, 0, 0]\n",
    "print(color_to_rgb(\"#00ff00\"))   # Output: [0, 255, 0]\n",
    "print(color_to_rgb(\"#0f0\"))      # Output: [0, 255, 0]\n",
    "print(color_to_rgb(\"rgb(0,0,255)\"))  # Output: [0, 0, 255]\n"
   ]
  },
  {
   "cell_type": "code",
   "execution_count": 7,
   "metadata": {},
   "outputs": [
    {
     "name": "stdout",
     "output_type": "stream",
     "text": [
      "['#1f77b4', '#ff7f0e', '#2ca02c', '#d62728', '#9467bd', '#8c564b', '#e377c2', '#7f7f7f', '#bcbd22', '#17becf']\n"
     ]
    }
   ],
   "source": [
    "import matplotlib.pyplot as plt\n",
    "\n",
    "# Retrieve the default color cycle\n",
    "color_cycle = plt.rcParams['axes.prop_cycle'].by_key()['color']\n",
    "print(color_cycle)  # List of default colors in hex\n"
   ]
  },
  {
   "cell_type": "code",
   "execution_count": 11,
   "metadata": {},
   "outputs": [
    {
     "name": "stdout",
     "output_type": "stream",
     "text": [
      "[255, 127, 14]\n"
     ]
    }
   ],
   "source": [
    "print(color_to_rgb(color_cycle[1]))"
   ]
  },
  {
   "cell_type": "code",
   "execution_count": 14,
   "metadata": {},
   "outputs": [
    {
     "name": "stdout",
     "output_type": "stream",
     "text": [
      "(0.267004, 0.004874, 0.329415, 1.0)\n",
      "(0.281412, 0.155834, 0.469201, 1.0)\n",
      "(0.244972, 0.287675, 0.53726, 1.0)\n",
      "(0.190631, 0.407061, 0.556089, 1.0)\n",
      "(0.147607, 0.511733, 0.557049, 1.0)\n",
      "(0.119699, 0.61849, 0.536347, 1.0)\n",
      "(0.20803, 0.718701, 0.472873, 1.0)\n",
      "(0.430983, 0.808473, 0.346476, 1.0)\n",
      "(0.709898, 0.868751, 0.169257, 1.0)\n",
      "(0.993248, 0.906157, 0.143936, 1.0)\n"
     ]
    },
    {
     "data": {
      "image/png": "[encoded data removed]",
      "text/plain": [
       "<Figure size 800x200 with 1 Axes>"
      ]
     },
     "metadata": {},
     "output_type": "display_data"
    }
   ],
   "source": [
    "import matplotlib.pyplot as plt\n",
    "import numpy as np\n",
    "\n",
    "# Choose a colormap and generate `n` colors\n",
    "n = 10\n",
    "colormap = plt.cm.viridis  # Choose your colormap\n",
    "colors = [colormap(i / (n - 1)) for i in range(n)]  # Generate `n` evenly spaced colors\n",
    "\n",
    "for color in colors:\n",
    "    print(color)\n",
    "    # print(color, color_to_rgb(color))\n",
    "    \n",
    "\n",
    "# Visualize the colors\n",
    "plt.figure(figsize=(8, 2))\n",
    "for i, color in enumerate(colors):\n",
    "    plt.bar(i, 1, color=color, edgecolor='black')\n",
    "    plt.text(i, 0.5, f\"Color {i+1}\", ha='center', va='center', color='white', fontsize=8)\n",
    "plt.xticks([])\n",
    "plt.yticks([])\n",
    "plt.title(\"Generated Colors from Colormap\")\n",
    "plt.show()\n"
   ]
  },
  {
   "cell_type": "code",
   "execution_count": 17,
   "metadata": {},
   "outputs": [
    {
     "name": "stdout",
     "output_type": "stream",
     "text": [
      "[[ 31. 119. 180.]\n",
      " [152. 223. 138.]\n",
      " [140.  86.  75.]\n",
      " [199. 199. 199.]\n",
      " [158. 218. 229.]]\n"
     ]
    }
   ],
   "source": [
    "# Define a custom list of colors\n",
    "n = 5\n",
    "colors = plt.cm.tab20(np.linspace(0, 1, n))  # Use 'tab20' colormap to generate 5 colors\n",
    "\n",
    "\n",
    "print(colors[:, :3]*255)"
   ]
  },
  {
   "cell_type": "code",
   "execution_count": null,
   "metadata": {},
   "outputs": [],
   "source": []
  }
 ],
 "metadata": {
  "kernelspec": {
   "display_name": "LLM",
   "language": "python",
   "name": "python3"
  },
  "language_info": {
   "codemirror_mode": {
    "name": "ipython",
    "version": 3
   },
   "file_extension": ".py",
   "mimetype": "text/x-python",
   "name": "python",
   "nbconvert_exporter": "python",
   "pygments_lexer": "ipython3",
   "version": "3.12.7"
  }
 },
 "nbformat": 4,
 "nbformat_minor": 2
}
