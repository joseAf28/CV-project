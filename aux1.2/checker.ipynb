{
 "cells": [
  {
   "cell_type": "code",
   "execution_count": 1,
   "metadata": {},
   "outputs": [],
   "source": [
    "import scipy \n",
    "import numpy as np\n",
    "import matplotlib.pyplot as plt"
   ]
  },
  {
   "cell_type": "code",
   "execution_count": 2,
   "metadata": {},
   "outputs": [],
   "source": [
    "data_input_folder = 'ISRwall/input/'\n",
    "data_input_01 = scipy.io.loadmat(data_input_folder + 'kp_0002.mat')\n",
    "\n",
    "data_input_01_desc = data_input_01['desc']\n",
    "data_input_01_kp = data_input_01['kp']\n",
    "\n",
    "counter = -1\n",
    "\n",
    "data_01_desc = data_input_01_desc[:counter, :]\n",
    "data_01_kp = data_input_01_kp[:counter, :]\n"
   ]
  },
  {
   "cell_type": "code",
   "execution_count": 3,
   "metadata": {},
   "outputs": [
    {
     "name": "stdout",
     "output_type": "stream",
     "text": [
      "(6807, 64)\n",
      "(6807, 2)\n",
      "(6808, 64)\n",
      "(6808, 2)\n"
     ]
    }
   ],
   "source": [
    "print(data_01_desc.shape)\n",
    "print(data_01_kp.shape)\n",
    "\n",
    "\n",
    "print(data_input_01_desc.shape)\n",
    "print(data_input_01_kp.shape)"
   ]
  },
  {
   "cell_type": "code",
   "execution_count": 4,
   "metadata": {},
   "outputs": [
    {
     "name": "stdout",
     "output_type": "stream",
     "text": [
      "(6106, 64)\n",
      "(6106, 2)\n"
     ]
    }
   ],
   "source": [
    "data_ref_folder = 'ISRwall/reference/'\n",
    "data_reference = scipy.io.loadmat(data_ref_folder + 'kp_ref.mat')\n",
    "\n",
    "\n",
    "data_ref_desc = data_reference['desc']\n",
    "data_ref_kp = data_reference['kp']\n",
    "\n",
    "print(data_ref_desc.shape)\n",
    "print(data_ref_kp.shape)\n",
    "\n",
    "\n",
    "data_ref_desc = data_ref_desc[:counter, :]\n",
    "data_ref_kp = data_ref_kp[:counter, :]"
   ]
  },
  {
   "cell_type": "code",
   "execution_count": 5,
   "metadata": {},
   "outputs": [],
   "source": [
    "import cv2"
   ]
  },
  {
   "cell_type": "code",
   "execution_count": 32,
   "metadata": {},
   "outputs": [],
   "source": [
    "class DMatch:\n",
    "    def __init__(self, _queryIdx, _trainIdx, _distance):\n",
    "        self.queryIdx = _queryIdx\n",
    "        self.trainIdx = _trainIdx\n",
    "        self.distance = _distance\n",
    "    \n",
    "    \n",
    "    def __repr__(self):\n",
    "        return 'DMatch(queryIdx: %s, trainIdx: %s, distance: %s)' % (self.queryIdx, self.trainIdx, self.distance)\n",
    "\n",
    "\n",
    "\n",
    "# Function to calculate Euclidean distance\n",
    "def euclidean_distance(descriptor1, descriptor2):\n",
    "    return np.sqrt(np.sum((descriptor1 - descriptor2) ** 2))\n",
    "\n",
    "\n",
    "# Function to find the K nearest neighbors\n",
    "def knn_match(descriptors_query, descriptors_train, k):\n",
    "    matches = []\n",
    "    for i, query_descriptor in enumerate(descriptors_query):\n",
    "        distances = []\n",
    "        for j, train_descriptor in enumerate(descriptors_train):\n",
    "            distance = euclidean_distance(query_descriptor, train_descriptor)\n",
    "            distances.append((j, distance))\n",
    "        \n",
    "        distances.sort(key=lambda x: x[1])\n",
    "        k_nearest_neighbors = distances[:k]\n",
    "        match = [DMatch(_queryIdx=i, _trainIdx=neighbor[0], _distance=neighbor[1]) for neighbor in k_nearest_neighbors]\n",
    "        matches.append(match)\n",
    "    return matches\n",
    "\n",
    "\n",
    "\n",
    "def knn_match_vectorized(descriptors_query, descriptors_train, k):\n",
    "    distances = scipy.spatial.distance.cdist(descriptors_query, descriptors_train, 'euclidean') ## calculate the distances between each query descriptor and each train descriptor: i -> query, j -> train\n",
    "    indices = np.argsort(distances, axis=1) ## order for each row (query descriptor) the indices of the train descriptors\n",
    "    matches = np.zeros((descriptors_query.shape[0], k), dtype=object)\n",
    "    \n",
    "    for i in range(descriptors_query.shape[0]):\n",
    "        k_nearest_neighbors = [(index, distances[i, index]) for index in indices[i, :k]]\n",
    "        match = np.array([DMatch(_queryIdx=i, _trainIdx=neighbor[0], _distance=neighbor[1]) for neighbor in k_nearest_neighbors])\n",
    "        matches[i, :] = match\n",
    "        \n",
    "    return matches\n",
    "\n",
    "\n",
    "def ratio_test(matches, ratio=0.75):\n",
    "    good_matches = []\n",
    "    for m, n in matches:\n",
    "        if m.distance < ratio * n.distance:\n",
    "            good_matches.append(m)\n",
    "            \n",
    "    return np.array(good_matches)\n",
    "\n",
    "\n"
   ]
  },
  {
   "cell_type": "code",
   "execution_count": 7,
   "metadata": {},
   "outputs": [],
   "source": [
    "bf = cv2.BFMatcher()\n",
    "matches = bf.knnMatch(data_input_01_desc, data_ref_desc, k=2)  # Get the 2 nearest neighbors\n",
    "\n",
    "\n",
    "good_matches = []\n",
    "for m, n in matches:\n",
    "    if m.distance < 0.75 * n.distance:\n",
    "        good_matches.append(m)\n",
    "        \n",
    "        "
   ]
  },
  {
   "cell_type": "code",
   "execution_count": 8,
   "metadata": {},
   "outputs": [
    {
     "name": "stdout",
     "output_type": "stream",
     "text": [
      "(6807, 64)\n"
     ]
    }
   ],
   "source": [
    "input_quey = data_01_desc[:, :]\n",
    "print(input_quey.shape)"
   ]
  },
  {
   "cell_type": "code",
   "execution_count": 33,
   "metadata": {},
   "outputs": [],
   "source": [
    "bf = cv2.BFMatcher()\n",
    "matches = bf.knnMatch(input_quey, data_ref_desc, k=2)  # Get the 2 nearest neighbors\n",
    "\n",
    "good_matches = ratio_test(matches)\n",
    "\n",
    "idx_query_vectorized = np.array([match.queryIdx for match in good_matches])\n",
    "idx_train_vectorized = np.array([match.trainIdx for match in good_matches])\n",
    "\n",
    "query_kp_vectorized = data_01_kp[idx_query_vectorized, :].astype(np.uint16)\n",
    "train_kp_vectorized = data_ref_kp[idx_train_vectorized, :].astype(np.uint16)\n",
    "\n",
    "\n",
    "# for idx in range(10):\n",
    "    \n",
    "#     first_match = good_matches[idx]\n",
    "#     print(\"query_match: \", first_match.queryIdx)\n",
    "#     print(\"train_match: \", first_match.trainIdx)\n",
    "    \n",
    "#     query_kp = data_01_kp[first_match.queryIdx]\n",
    "#     train_kp = data_ref_kp[first_match.trainIdx]\n",
    "\n",
    "#     print(f\"Query KeyPoint: {query_kp}\")\n",
    "#     print(f\"Train KeyPoint: {train_kp}\")\n"
   ]
  },
  {
   "cell_type": "code",
   "execution_count": 34,
   "metadata": {},
   "outputs": [
    {
     "name": "stdout",
     "output_type": "stream",
     "text": [
      "[[1907 2014]\n",
      " [1970 1725]\n",
      " [2014 1961]\n",
      " [2083 1885]\n",
      " [2079 1860]\n",
      " [3196 1189]\n",
      " [2765 1838]\n",
      " [2130 1889]\n",
      " [2009 1862]\n",
      " [2334 1831]]\n",
      "[[2295 2064]\n",
      " [1473  874]\n",
      " [1528 1108]\n",
      " [1596 1032]\n",
      " [1591 1008]\n",
      " [2722  298]\n",
      " [2295 2064]\n",
      " [1644 1035]\n",
      " [1520 1011]\n",
      " [1849  973]]\n"
     ]
    }
   ],
   "source": [
    "print(query_kp_vectorized[:10])\n",
    "print(train_kp_vectorized[:10])"
   ]
  },
  {
   "cell_type": "code",
   "execution_count": 10,
   "metadata": {},
   "outputs": [],
   "source": [
    "# matches2 = knn_match(input_quey, data_ref_desc, 2)\n",
    "\n",
    "# good_matches2 = []\n",
    "# for m, n in matches2:\n",
    "#     if m.distance < 0.75 * n.distance:\n",
    "#         good_matches2.append(m)\n",
    "\n",
    "\n",
    "# for idx in range(len(good_matches2)):\n",
    "    \n",
    "#     first_match = good_matches2[idx]\n",
    "#     print(\"query_match: \", first_match.queryIdx)\n",
    "#     print(\"train_match: \", first_match.trainIdx)\n",
    "    \n",
    "#     query_kp = data_01_kp[first_match.queryIdx]\n",
    "#     train_kp = data_ref_kp[first_match.trainIdx]\n",
    "\n",
    "#     print(f\"Query KeyPoint: {query_kp}\")\n",
    "#     print(f\"Train KeyPoint: {train_kp}\")"
   ]
  },
  {
   "cell_type": "code",
   "execution_count": 35,
   "metadata": {},
   "outputs": [],
   "source": [
    "matches3 = knn_match_vectorized(input_quey, data_ref_desc, 2)\n",
    "\n",
    "good_matches = ratio_test(matches3)\n",
    "\n",
    "idx_query_vectorized = np.array([match.queryIdx for match in good_matches])\n",
    "idx_train_vectorized = np.array([match.trainIdx for match in good_matches])\n",
    "\n",
    "query_kp_vectorized = data_01_kp[idx_query_vectorized, :].astype(np.uint16)\n",
    "train_kp_vectorized = data_ref_kp[idx_train_vectorized, :].astype(np.uint16)\n",
    "\n",
    "\n",
    "\n",
    "# for idx in range(len(good_matches3)):\n",
    "    \n",
    "#     first_match = good_matches3[idx]\n",
    "#     print(\"query_match: \", first_match.queryIdx)\n",
    "#     print(\"train_match: \", first_match.trainIdx)\n",
    "    \n",
    "#     query_kp = data_01_kp[first_match.queryIdx]\n",
    "#     train_kp = data_ref_kp[first_match.trainIdx]\n",
    "\n",
    "#     print(f\"Query KeyPoint: {query_kp}\")\n",
    "#     print(f\"Train KeyPoint: {train_kp}\")"
   ]
  },
  {
   "cell_type": "code",
   "execution_count": 12,
   "metadata": {},
   "outputs": [
    {
     "name": "stdout",
     "output_type": "stream",
     "text": [
      "Matches:  (6807, 2)\n"
     ]
    }
   ],
   "source": [
    "print(\"Matches: \", matches3.shape)"
   ]
  },
  {
   "cell_type": "code",
   "execution_count": null,
   "metadata": {},
   "outputs": [],
   "source": []
  }
 ],
 "metadata": {
  "kernelspec": {
   "display_name": "LLM",
   "language": "python",
   "name": "python3"
  },
  "language_info": {
   "codemirror_mode": {
    "name": "ipython",
    "version": 3
   },
   "file_extension": ".py",
   "mimetype": "text/x-python",
   "name": "python",
   "nbconvert_exporter": "python",
   "pygments_lexer": "ipython3",
   "version": "3.12.7"
  }
 },
 "nbformat": 4,
 "nbformat_minor": 2
}
