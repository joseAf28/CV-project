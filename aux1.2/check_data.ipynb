{
 "cells": [
  {
   "cell_type": "code",
   "execution_count": 1,
   "metadata": {},
   "outputs": [],
   "source": [
    "import numpy as np\n",
    "import scipy\n"
   ]
  },
  {
   "cell_type": "code",
   "execution_count": 2,
   "metadata": {},
   "outputs": [],
   "source": [
    "file = \"ISRwall/input_1/keypoints/kp_0001.mat\"\n",
    "\n",
    "data = scipy.io.loadmat(file)"
   ]
  },
  {
   "cell_type": "code",
   "execution_count": 3,
   "metadata": {},
   "outputs": [
    {
     "name": "stdout",
     "output_type": "stream",
     "text": [
      "{'__header__': b'MATLAB 5.0 MAT-file, Platform: PCWIN64, Created on: Sat Dec  7 23:29:14 2024', '__version__': '1.0', '__globals__': [], 'desc': array([[-1.2147577e-03,  1.3661742e-03,  1.5040112e-03, ...,\n",
      "         3.9625294e-05,  2.3780434e-04,  5.0693878e-05],\n",
      "       [ 8.9766101e-05, -6.5350059e-07,  1.3038753e-04, ...,\n",
      "        -9.7146450e-04,  1.6931549e-03,  1.2479689e-03],\n",
      "       [ 5.1001430e-04,  2.5618529e-05,  5.6745455e-04, ...,\n",
      "        -4.4367402e-03,  5.9141191e-03,  4.6146321e-03],\n",
      "       ...,\n",
      "       [-5.3760363e-04,  6.9906390e-03,  2.1003024e-03, ...,\n",
      "         2.4003490e-05,  1.5223854e-04,  7.7810291e-05],\n",
      "       [ 2.8336544e-03,  4.8156241e-03,  6.8791509e-03, ...,\n",
      "        -4.3408372e-04,  1.1505736e-03,  9.2278182e-04],\n",
      "       [-4.2061857e-03, -3.5134429e-04,  4.9934820e-03, ...,\n",
      "        -1.8866700e-05,  1.9369868e-04,  9.1046131e-05]], dtype=float32), 'kp': array([[2595.8745 , 1713.7245 ],\n",
      "       [1658.9666 , 2100.2793 ],\n",
      "       [1420.9905 , 1774.8513 ],\n",
      "       ...,\n",
      "       [2293.1628 ,  772.9481 ],\n",
      "       [2744.0737 ,  314.66498],\n",
      "       [1298.2274 , 1673.0447 ]], dtype=float32)}\n"
     ]
    }
   ],
   "source": [
    "# print(dir(data))\n",
    "print(data)"
   ]
  },
  {
   "cell_type": "code",
   "execution_count": 4,
   "metadata": {},
   "outputs": [],
   "source": [
    "def dfs_all_paths(graph, start_node, end_node):\n",
    "    stack = [(start_node, [start_node])]\n",
    "    all_paths = []\n",
    "\n",
    "    while stack:\n",
    "        (current_node, path) = stack.pop()\n",
    "\n",
    "        for neighbor in graph.get(current_node, []):\n",
    "            if neighbor in path:\n",
    "                continue\n",
    "            new_path = path + [neighbor]\n",
    "            if neighbor == end_node:\n",
    "                all_paths.append(new_path)\n",
    "            else:\n",
    "                stack.append((neighbor, new_path))\n",
    "\n",
    "    return all_paths\n",
    "\n",
    "\n",
    "\n",
    "\n",
    "graph=  {\n",
    "    0: [2, 1, 8], \n",
    "    1: [0, 2, 3], \n",
    "    2: [0, 1], \n",
    "    3: [1, 4], \n",
    "    4: [5, 3], \n",
    "    5: [4], \n",
    "    6: [7], \n",
    "    7: [6, 8], \n",
    "    8: [7, 0]\n",
    "    }"
   ]
  },
  {
   "cell_type": "code",
   "execution_count": 9,
   "metadata": {},
   "outputs": [
    {
     "name": "stdout",
     "output_type": "stream",
     "text": [
      "[[0, 1, 3, 4], [0, 2, 1, 3, 4]]\n"
     ]
    }
   ],
   "source": [
    "start_node = 0\n",
    "end_node = 4\n",
    "paths = dfs_all_paths(graph, start_node, end_node)\n",
    "print(paths)"
   ]
  },
  {
   "cell_type": "code",
   "execution_count": null,
   "metadata": {},
   "outputs": [],
   "source": []
  }
 ],
 "metadata": {
  "kernelspec": {
   "display_name": "LLM",
   "language": "python",
   "name": "python3"
  },
  "language_info": {
   "codemirror_mode": {
    "name": "ipython",
    "version": 3
   },
   "file_extension": ".py",
   "mimetype": "text/x-python",
   "name": "python",
   "nbconvert_exporter": "python",
   "pygments_lexer": "ipython3",
   "version": "3.12.7"
  }
 },
 "nbformat": 4,
 "nbformat_minor": 2
}
