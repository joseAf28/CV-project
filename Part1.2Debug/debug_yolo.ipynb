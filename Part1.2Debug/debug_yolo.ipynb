{
 "cells": [
  {
   "cell_type": "code",
   "execution_count": 1,
   "metadata": {},
   "outputs": [],
   "source": [
    "import scipy\n",
    "import numpy as np"
   ]
  },
  {
   "cell_type": "code",
   "execution_count": 2,
   "metadata": {},
   "outputs": [],
   "source": [
    "data_voley = scipy.io.loadmat(\"volley/volley.mat\")"
   ]
  },
  {
   "cell_type": "code",
   "execution_count": 3,
   "metadata": {},
   "outputs": [
    {
     "name": "stdout",
     "output_type": "stream",
     "text": [
      "dict_keys(['__header__', '__version__', '__globals__', 'frame_00000', 'frame_00001', 'frame_00002', 'frame_00003', 'frame_00004', 'frame_00005', 'frame_00006', 'frame_00007', 'frame_00008', 'frame_00009', 'frame_00010', 'frame_00011', 'frame_00012', 'frame_00013', 'frame_00014', 'frame_00015', 'frame_00016', 'frame_00017', 'frame_00018', 'frame_00019', 'frame_00020', 'frame_00021', 'frame_00022', 'frame_00023', 'frame_00024', 'frame_00025', 'frame_00026', 'frame_00027', 'frame_00028', 'frame_00029', 'frame_00030', 'frame_00031', 'frame_00032', 'frame_00033', 'frame_00034', 'frame_00035', 'frame_00036', 'frame_00037', 'frame_00038', 'frame_00039', 'frame_00040', 'frame_00041', 'frame_00042', 'frame_00043', 'frame_00044', 'frame_00045', 'frame_00046', 'frame_00047', 'frame_00048', 'frame_00049', 'frame_00050', 'frame_00051', 'frame_00052', 'frame_00053', 'frame_00054', 'frame_00055', 'frame_00056', 'frame_00057', 'frame_00058', 'frame_00059', 'frame_00060', 'frame_00061', 'frame_00062', 'frame_00063', 'frame_00064', 'frame_00065', 'frame_00066', 'frame_00067', 'frame_00068', 'frame_00069', 'frame_00070', 'frame_00071', 'frame_00072', 'frame_00073', 'frame_00074', 'frame_00075', 'frame_00076', 'frame_00077', 'frame_00078', 'frame_00079', 'frame_00080', 'frame_00081', 'frame_00082', 'frame_00083', 'frame_00084', 'frame_00085', 'frame_00086', 'frame_00087', 'frame_00088', 'frame_00089', 'frame_00090', 'frame_00091', 'frame_00092', 'frame_00093', 'frame_00094', 'frame_00095', 'frame_00096', 'frame_00097', 'frame_00098', 'frame_00099', 'frame_00100', 'frame_00101', 'frame_00102', 'frame_00103', 'frame_00104', 'frame_00105', 'frame_00106', 'frame_00107', 'frame_00108', 'frame_00109', 'frame_00110', 'frame_00111', 'frame_00112', 'frame_00113', 'frame_00114', 'frame_00115', 'frame_00116', 'frame_00117', 'frame_00118', 'frame_00119', 'frame_00120', 'frame_00121', 'frame_00122', 'frame_00123', 'frame_00124', 'frame_00125', 'frame_00126', 'frame_00127', 'frame_00128', 'frame_00129', 'frame_00130', 'frame_00131', 'frame_00132', 'frame_00133', 'frame_00134', 'frame_00135', 'frame_00136', 'frame_00137', 'frame_00138', 'frame_00139', 'frame_00140', 'frame_00141', 'frame_00142', 'frame_00143', 'frame_00144', 'frame_00145', 'frame_00146', 'frame_00147', 'frame_00148', 'frame_00149', 'frame_00150', 'frame_00151', 'frame_00152', 'frame_00153', 'frame_00154', 'frame_00155', 'frame_00156', 'frame_00157', 'frame_00158', 'frame_00159', 'frame_00160', 'frame_00161', 'frame_00162', 'frame_00163', 'frame_00164', 'frame_00165', 'frame_00166', 'frame_00167', 'frame_00168', 'frame_00169', 'frame_00170', 'frame_00171', 'frame_00172', 'frame_00173', 'frame_00174', 'frame_00175', 'frame_00176', 'frame_00177', 'frame_00178', 'frame_00179', 'frame_00180', 'frame_00181', 'frame_00182', 'frame_00183', 'frame_00184', 'frame_00185', 'frame_00186', 'frame_00187', 'frame_00188', 'frame_00189', 'frame_00190', 'frame_00191', 'frame_00192', 'frame_00193', 'frame_00194', 'frame_00195', 'frame_00196', 'frame_00197', 'frame_00198', 'frame_00199', 'frame_00200', 'frame_00201', 'frame_00202', 'frame_00203', 'frame_00204', 'frame_00205', 'frame_00206', 'frame_00207', 'frame_00208', 'frame_00209', 'frame_00210', 'frame_00211', 'frame_00212', 'frame_00213', 'frame_00214', 'frame_00215', 'frame_00216', 'frame_00217', 'frame_00218', 'frame_00219', 'frame_00220', 'frame_00221', 'frame_00222', 'frame_00223', 'frame_00224', 'frame_00225', 'frame_00226', 'frame_00227', 'frame_00228', 'frame_00229', 'frame_00230', 'frame_00231', 'frame_00232', 'frame_00233', 'frame_00234', 'frame_00235', 'frame_00236', 'frame_00237', 'frame_00238', 'frame_00239', 'frame_00240', 'frame_00241', 'frame_00242', 'frame_00243', 'frame_00244', 'frame_00245', 'frame_00246', 'frame_00247', 'frame_00248', 'frame_00249', 'frame_00250', 'frame_00251', 'frame_00252', 'frame_00253', 'frame_00254', 'frame_00255', 'frame_00256', 'frame_00257', 'frame_00258', 'frame_00259', 'frame_00260', 'frame_00261', 'frame_00262', 'frame_00263', 'frame_00264', 'frame_00265', 'frame_00266', 'frame_00267', 'frame_00268', 'frame_00269', 'frame_00270', 'frame_00271', 'frame_00272', 'frame_00273', 'frame_00274', 'frame_00275', 'frame_00276', 'frame_00277', 'frame_00278', 'frame_00279', 'frame_00280', 'frame_00281', 'frame_00282', 'frame_00283', 'frame_00284', 'frame_00285', 'frame_00286', 'frame_00287', 'frame_00288', 'frame_00289', 'frame_00290', 'frame_00291', 'frame_00292', 'frame_00293', 'frame_00294', 'frame_00295', 'frame_00296', 'frame_00297', 'frame_00298', 'frame_00299', 'frame_00300', 'frame_00301', 'frame_00302', 'frame_00303', 'frame_00304', 'frame_00305', 'frame_00306', 'frame_00307', 'frame_00308', 'frame_00309', 'frame_00310', 'frame_00311', 'frame_00312', 'frame_00313', 'frame_00314', 'frame_00315', 'frame_00316', 'frame_00317', 'frame_00318', 'frame_00319', 'frame_00320', 'frame_00321', 'frame_00322', 'frame_00323', 'frame_00324', 'frame_00325', 'frame_00326', 'frame_00327', 'frame_00328', 'frame_00329', 'frame_00330', 'frame_00331', 'frame_00332', 'frame_00333', 'frame_00334', 'frame_00335', 'frame_00336', 'frame_00337', 'frame_00338', 'frame_00339', 'frame_00340', 'frame_00341', 'frame_00342', 'frame_00343', 'frame_00344', 'frame_00345', 'frame_00346', 'frame_00347', 'frame_00348', 'frame_00349', 'frame_00350', 'frame_00351', 'frame_00352', 'frame_00353', 'frame_00354', 'frame_00355', 'frame_00356', 'frame_00357', 'frame_00358', 'frame_00359', 'frame_00360', 'frame_00361', 'frame_00362', 'frame_00363', 'frame_00364', 'frame_00365', 'frame_00366', 'frame_00367', 'frame_00368', 'frame_00369', 'frame_00370', 'frame_00371', 'frame_00372', 'frame_00373', 'frame_00374', 'frame_00375', 'frame_00376', 'frame_00377', 'frame_00378', 'frame_00379', 'frame_00380', 'frame_00381', 'frame_00382', 'frame_00383', 'frame_00384', 'frame_00385', 'frame_00386', 'frame_00387', 'frame_00388', 'frame_00389', 'frame_00390', 'frame_00391', 'frame_00392', 'frame_00393', 'frame_00394', 'frame_00395', 'frame_00396', 'frame_00397', 'frame_00398', 'frame_00399', 'frame_00400', 'frame_00401', 'frame_00402', 'frame_00403', 'frame_00404', 'frame_00405', 'frame_00406', 'frame_00407', 'frame_00408', 'frame_00409', 'frame_00410', 'frame_00411', 'frame_00412', 'frame_00413', 'frame_00414', 'frame_00415', 'frame_00416', 'frame_00417', 'frame_00418', 'frame_00419', 'frame_00420', 'frame_00421', 'frame_00422', 'frame_00423', 'frame_00424', 'frame_00425', 'frame_00426', 'frame_00427', 'frame_00428', 'frame_00429', 'frame_00430', 'frame_00431', 'frame_00432', 'frame_00433', 'frame_00434', 'frame_00435', 'frame_00436', 'frame_00437', 'frame_00438', 'frame_00439', 'frame_00440', 'frame_00441', 'frame_00442', 'frame_00443', 'frame_00444', 'frame_00445', 'frame_00446', 'frame_00447', 'frame_00448', 'frame_00449', 'frame_00450', 'frame_00451', 'frame_00452', 'frame_00453', 'frame_00454', 'frame_00455', 'frame_00456', 'frame_00457', 'frame_00458', 'frame_00459', 'frame_00460', 'frame_00461', 'frame_00462', 'frame_00463', 'frame_00464', 'frame_00465', 'frame_00466', 'frame_00467', 'frame_00468', 'frame_00469', 'frame_00470', 'frame_00471', 'frame_00472', 'frame_00473', 'frame_00474', 'frame_00475', 'frame_00476', 'frame_00477', 'frame_00478', 'frame_00479', 'frame_00480', 'frame_00481', 'frame_00482', 'frame_00483', 'frame_00484', 'frame_00485', 'frame_00486', 'frame_00487', 'frame_00488', 'frame_00489', 'frame_00490', 'frame_00491', 'frame_00492', 'frame_00493', 'frame_00494', 'frame_00495', 'frame_00496', 'frame_00497', 'frame_00498', 'frame_00499', 'frame_00500', 'frame_00501', 'frame_00502', 'frame_00503', 'frame_00504', 'frame_00505', 'frame_00506', 'frame_00507', 'frame_00508', 'frame_00509', 'frame_00510', 'frame_00511', 'frame_00512', 'frame_00513', 'frame_00514', 'frame_00515', 'frame_00516', 'frame_00517', 'frame_00518', 'frame_00519', 'frame_00520', 'frame_00521', 'frame_00522', 'frame_00523', 'frame_00524', 'frame_00525', 'frame_00526', 'frame_00527', 'frame_00528', 'frame_00529', 'frame_00530', 'frame_00531', 'frame_00532', 'frame_00533', 'frame_00534', 'frame_00535', 'frame_00536', 'frame_00537', 'frame_00538', 'frame_00539', 'frame_00540', 'frame_00541', 'frame_00542', 'frame_00543', 'frame_00544', 'frame_00545', 'frame_00546', 'frame_00547', 'frame_00548', 'frame_00549', 'frame_00550', 'frame_00551', 'frame_00552', 'frame_00553', 'frame_00554', 'frame_00555', 'frame_00556', 'frame_00557', 'frame_00558', 'frame_00559', 'frame_00560', 'frame_00561', 'frame_00562', 'frame_00563', 'frame_00564', 'frame_00565', 'frame_00566', 'frame_00567', 'frame_00568', 'frame_00569', 'frame_00570', 'frame_00571', 'frame_00572', 'frame_00573', 'frame_00574', 'frame_00575', 'frame_00576', 'frame_00577', 'frame_00578', 'frame_00579', 'frame_00580', 'frame_00581', 'frame_00582', 'frame_00583', 'frame_00584', 'frame_00585', 'frame_00586', 'frame_00587', 'frame_00588', 'frame_00589', 'frame_00590', 'frame_00591', 'frame_00592', 'frame_00593', 'frame_00594', 'frame_00595', 'frame_00596', 'frame_00597', 'frame_00598', 'frame_00599', 'frame_00600', 'frame_00601', 'frame_00602', 'frame_00603', 'frame_00604', 'frame_00605', 'frame_00606', 'frame_00607', 'frame_00608', 'frame_00609', 'frame_00610', 'frame_00611', 'frame_00612', 'frame_00613', 'frame_00614', 'frame_00615', 'frame_00616', 'frame_00617', 'frame_00618', 'frame_00619', 'frame_00620', 'frame_00621', 'frame_00622', 'frame_00623', 'frame_00624'])\n"
     ]
    }
   ],
   "source": [
    "print(data_voley.keys())"
   ]
  },
  {
   "cell_type": "code",
   "execution_count": 4,
   "metadata": {},
   "outputs": [
    {
     "data": {
      "text/plain": [
       "array([[array([[301.73517 , 202.90787 , 337.02356 , 296.6887  ],\n",
       "               [454.81406 , 136.5535  , 484.44614 , 194.34575 ],\n",
       "               [160.55112 , 176.44089 , 183.74687 , 246.21042 ],\n",
       "               [276.2784  , 158.56137 , 294.3963  , 207.4308  ],\n",
       "               [585.5046  , 233.89255 , 616.55695 , 289.12204 ],\n",
       "               [  9.796109, 106.52081 ,  38.75892 , 168.61282 ],\n",
       "               [479.06052 , 101.26871 , 499.15994 , 141.21161 ],\n",
       "               [561.3597  , 172.5684  , 599.93854 , 226.80501 ],\n",
       "               [338.83344 ,  88.37851 , 357.61166 , 146.92047 ],\n",
       "               [205.89632 , 151.5648  , 229.17667 , 205.35614 ],\n",
       "               [201.39137 , 200.27013 , 241.78227 , 272.32437 ]], dtype=float32)]],\n",
       "      dtype=object)"
      ]
     },
     "execution_count": 4,
     "metadata": {},
     "output_type": "execute_result"
    }
   ],
   "source": [
    "data_voley['frame_00496']['xyxy']\n"
   ]
  },
  {
   "cell_type": "code",
   "execution_count": 5,
   "metadata": {},
   "outputs": [
    {
     "data": {
      "text/plain": [
       "array([[array([[42., 58., 66., 82., 86., 88., 90., 92., 93., 91., 94.]],\n",
       "              dtype=float32)                                            ]],\n",
       "      dtype=object)"
      ]
     },
     "execution_count": 5,
     "metadata": {},
     "output_type": "execute_result"
    }
   ],
   "source": [
    "data_voley['frame_00496']['id']"
   ]
  },
  {
   "cell_type": "code",
   "execution_count": 6,
   "metadata": {},
   "outputs": [
    {
     "name": "stdout",
     "output_type": "stream",
     "text": [
      "dict_keys(['__header__', '__version__', '__globals__', 'frame_00000', 'frame_00001', 'frame_00002', 'frame_00003', 'frame_00004', 'frame_00005', 'frame_00006', 'frame_00007', 'frame_00008', 'frame_00009', 'frame_00010', 'frame_00011', 'frame_00012', 'frame_00013', 'frame_00014', 'frame_00015', 'frame_00016', 'frame_00017', 'frame_00018', 'frame_00019', 'frame_00020', 'frame_00021', 'frame_00022', 'frame_00023', 'frame_00024', 'frame_00025', 'frame_00026', 'frame_00027', 'frame_00028', 'frame_00029', 'frame_00030', 'frame_00031', 'frame_00032', 'frame_00033', 'frame_00034', 'frame_00035', 'frame_00036', 'frame_00037', 'frame_00038', 'frame_00039', 'frame_00040', 'frame_00041', 'frame_00042', 'frame_00043', 'frame_00044', 'frame_00045', 'frame_00046', 'frame_00047', 'frame_00048', 'frame_00049', 'frame_00050', 'frame_00051', 'frame_00052', 'frame_00053', 'frame_00054', 'frame_00055', 'frame_00056', 'frame_00057', 'frame_00058', 'frame_00059', 'frame_00060', 'frame_00061', 'frame_00062', 'frame_00063', 'frame_00064', 'frame_00065', 'frame_00066', 'frame_00067', 'frame_00068', 'frame_00069', 'frame_00070', 'frame_00071', 'frame_00072', 'frame_00073', 'frame_00074', 'frame_00075', 'frame_00076', 'frame_00077', 'frame_00078', 'frame_00079', 'frame_00080', 'frame_00081', 'frame_00082', 'frame_00083', 'frame_00084', 'frame_00085', 'frame_00086', 'frame_00087', 'frame_00088', 'frame_00089', 'frame_00090', 'frame_00091', 'frame_00092', 'frame_00093', 'frame_00094', 'frame_00095', 'frame_00096', 'frame_00097', 'frame_00098', 'frame_00099', 'frame_00100', 'frame_00101', 'frame_00102', 'frame_00103', 'frame_00104', 'frame_00105', 'frame_00106', 'frame_00107', 'frame_00108', 'frame_00109', 'frame_00110', 'frame_00111', 'frame_00112', 'frame_00113', 'frame_00114', 'frame_00115', 'frame_00116', 'frame_00117', 'frame_00118', 'frame_00119', 'frame_00120', 'frame_00121', 'frame_00122', 'frame_00123', 'frame_00124', 'frame_00125', 'frame_00126', 'frame_00127', 'frame_00128', 'frame_00129', 'frame_00130', 'frame_00131', 'frame_00132', 'frame_00133', 'frame_00134', 'frame_00135', 'frame_00136', 'frame_00137', 'frame_00138', 'frame_00139', 'frame_00140', 'frame_00141', 'frame_00142', 'frame_00143', 'frame_00144', 'frame_00145', 'frame_00146', 'frame_00147', 'frame_00148', 'frame_00149', 'frame_00150', 'frame_00151', 'frame_00152', 'frame_00153', 'frame_00154', 'frame_00155', 'frame_00156', 'frame_00157', 'frame_00158', 'frame_00159', 'frame_00160', 'frame_00161', 'frame_00162', 'frame_00163', 'frame_00164', 'frame_00165', 'frame_00166', 'frame_00167', 'frame_00168', 'frame_00169', 'frame_00170', 'frame_00171', 'frame_00172', 'frame_00173', 'frame_00174', 'frame_00175', 'frame_00176', 'frame_00177', 'frame_00178', 'frame_00179', 'frame_00180', 'frame_00181', 'frame_00182', 'frame_00183', 'frame_00184', 'frame_00185', 'frame_00186', 'frame_00187', 'frame_00188', 'frame_00189', 'frame_00190', 'frame_00191', 'frame_00192', 'frame_00193', 'frame_00194', 'frame_00195', 'frame_00196', 'frame_00197', 'frame_00198', 'frame_00199', 'frame_00200', 'frame_00201', 'frame_00202', 'frame_00203', 'frame_00204', 'frame_00205', 'frame_00206', 'frame_00207', 'frame_00208', 'frame_00209', 'frame_00210', 'frame_00211', 'frame_00212', 'frame_00213', 'frame_00214', 'frame_00215', 'frame_00216', 'frame_00217', 'frame_00218', 'frame_00219', 'frame_00220', 'frame_00221', 'frame_00222', 'frame_00223', 'frame_00224', 'frame_00225', 'frame_00226', 'frame_00227', 'frame_00228', 'frame_00229', 'frame_00230', 'frame_00231', 'frame_00232', 'frame_00233', 'frame_00234', 'frame_00235', 'frame_00236', 'frame_00237', 'frame_00238', 'frame_00239', 'frame_00240', 'frame_00241', 'frame_00242', 'frame_00243', 'frame_00244', 'frame_00245', 'frame_00246', 'frame_00247', 'frame_00248', 'frame_00249', 'frame_00250', 'frame_00251', 'frame_00252', 'frame_00253', 'frame_00254', 'frame_00255', 'frame_00256', 'frame_00257', 'frame_00258', 'frame_00259', 'frame_00260', 'frame_00261', 'frame_00262', 'frame_00263', 'frame_00264', 'frame_00265', 'frame_00266', 'frame_00267', 'frame_00268', 'frame_00269', 'frame_00270', 'frame_00271', 'frame_00272', 'frame_00273', 'frame_00274', 'frame_00275', 'frame_00276', 'frame_00277', 'frame_00278', 'frame_00279', 'frame_00280', 'frame_00281', 'frame_00282', 'frame_00283', 'frame_00284', 'frame_00285', 'frame_00286', 'frame_00287', 'frame_00288', 'frame_00289', 'frame_00290', 'frame_00291', 'frame_00292', 'frame_00293', 'frame_00294', 'frame_00295', 'frame_00296', 'frame_00297', 'frame_00298', 'frame_00299', 'frame_00300', 'frame_00301', 'frame_00302', 'frame_00303', 'frame_00304', 'frame_00305', 'frame_00306', 'frame_00307', 'frame_00308', 'frame_00309', 'frame_00310', 'frame_00311', 'frame_00312', 'frame_00313', 'frame_00314', 'frame_00315', 'frame_00316', 'frame_00317', 'frame_00318', 'frame_00319', 'frame_00320', 'frame_00321', 'frame_00322', 'frame_00323', 'frame_00324', 'frame_00325', 'frame_00326', 'frame_00327', 'frame_00328', 'frame_00329', 'frame_00330', 'frame_00331', 'frame_00332', 'frame_00333', 'frame_00334', 'frame_00335', 'frame_00336', 'frame_00337', 'frame_00338', 'frame_00339', 'frame_00340', 'frame_00341', 'frame_00342', 'frame_00343', 'frame_00344', 'frame_00345', 'frame_00346', 'frame_00347', 'frame_00348', 'frame_00349', 'frame_00350', 'frame_00351', 'frame_00352', 'frame_00353', 'frame_00354', 'frame_00355', 'frame_00356', 'frame_00357', 'frame_00358', 'frame_00359', 'frame_00360', 'frame_00361', 'frame_00362', 'frame_00363', 'frame_00364', 'frame_00365', 'frame_00366', 'frame_00367', 'frame_00368', 'frame_00369', 'frame_00370', 'frame_00371', 'frame_00372', 'frame_00373', 'frame_00374', 'frame_00375', 'frame_00376', 'frame_00377', 'frame_00378', 'frame_00379', 'frame_00380', 'frame_00381', 'frame_00382', 'frame_00383', 'frame_00384', 'frame_00385', 'frame_00386', 'frame_00387', 'frame_00388', 'frame_00389', 'frame_00390', 'frame_00391', 'frame_00392', 'frame_00393', 'frame_00394', 'frame_00395', 'frame_00396', 'frame_00397', 'frame_00398', 'frame_00399', 'frame_00400', 'frame_00401', 'frame_00402', 'frame_00403', 'frame_00404', 'frame_00405', 'frame_00406', 'frame_00407', 'frame_00408', 'frame_00409', 'frame_00410', 'frame_00411', 'frame_00412', 'frame_00413', 'frame_00414', 'frame_00415', 'frame_00416', 'frame_00417', 'frame_00418', 'frame_00419', 'frame_00420', 'frame_00421', 'frame_00422', 'frame_00423', 'frame_00424', 'frame_00425', 'frame_00426', 'frame_00427', 'frame_00428', 'frame_00429', 'frame_00430', 'frame_00431', 'frame_00432', 'frame_00433', 'frame_00434', 'frame_00435', 'frame_00436', 'frame_00437', 'frame_00438', 'frame_00439', 'frame_00440', 'frame_00441', 'frame_00442', 'frame_00443', 'frame_00444', 'frame_00445', 'frame_00446', 'frame_00447', 'frame_00448', 'frame_00449', 'frame_00450', 'frame_00451', 'frame_00452', 'frame_00453', 'frame_00454', 'frame_00455', 'frame_00456', 'frame_00457', 'frame_00458', 'frame_00459', 'frame_00460', 'frame_00461', 'frame_00462', 'frame_00463', 'frame_00464', 'frame_00465', 'frame_00466', 'frame_00467', 'frame_00468', 'frame_00469', 'frame_00470', 'frame_00471', 'frame_00472', 'frame_00473', 'frame_00474', 'frame_00475', 'frame_00476', 'frame_00477', 'frame_00478', 'frame_00479', 'frame_00480', 'frame_00481', 'frame_00482', 'frame_00483', 'frame_00484', 'frame_00485', 'frame_00486', 'frame_00487', 'frame_00488', 'frame_00489', 'frame_00490', 'frame_00491', 'frame_00492', 'frame_00493', 'frame_00494', 'frame_00495', 'frame_00496', 'frame_00497', 'frame_00498', 'frame_00499', 'frame_00500', 'frame_00501', 'frame_00502', 'frame_00503', 'frame_00504', 'frame_00505', 'frame_00506', 'frame_00507', 'frame_00508', 'frame_00509', 'frame_00510', 'frame_00511', 'frame_00512', 'frame_00513', 'frame_00514', 'frame_00515', 'frame_00516', 'frame_00517', 'frame_00518', 'frame_00519', 'frame_00520', 'frame_00521', 'frame_00522', 'frame_00523', 'frame_00524', 'frame_00525', 'frame_00526', 'frame_00527', 'frame_00528', 'frame_00529', 'frame_00530', 'frame_00531', 'frame_00532', 'frame_00533', 'frame_00534', 'frame_00535', 'frame_00536', 'frame_00537', 'frame_00538', 'frame_00539', 'frame_00540', 'frame_00541', 'frame_00542', 'frame_00543', 'frame_00544', 'frame_00545', 'frame_00546', 'frame_00547', 'frame_00548', 'frame_00549', 'frame_00550', 'frame_00551', 'frame_00552', 'frame_00553', 'frame_00554', 'frame_00555', 'frame_00556', 'frame_00557', 'frame_00558', 'frame_00559', 'frame_00560', 'frame_00561', 'frame_00562', 'frame_00563', 'frame_00564', 'frame_00565', 'frame_00566', 'frame_00567', 'frame_00568', 'frame_00569', 'frame_00570', 'frame_00571', 'frame_00572', 'frame_00573', 'frame_00574', 'frame_00575', 'frame_00576', 'frame_00577', 'frame_00578', 'frame_00579', 'frame_00580', 'frame_00581', 'frame_00582', 'frame_00583', 'frame_00584', 'frame_00585', 'frame_00586', 'frame_00587', 'frame_00588', 'frame_00589', 'frame_00590', 'frame_00591', 'frame_00592', 'frame_00593', 'frame_00594', 'frame_00595', 'frame_00596', 'frame_00597', 'frame_00598', 'frame_00599', 'frame_00600', 'frame_00601', 'frame_00602', 'frame_00603', 'frame_00604', 'frame_00605', 'frame_00606', 'frame_00607', 'frame_00608', 'frame_00609', 'frame_00610', 'frame_00611', 'frame_00612', 'frame_00613', 'frame_00614', 'frame_00615', 'frame_00616', 'frame_00617', 'frame_00618', 'frame_00619', 'frame_00620', 'frame_00621', 'frame_00622', 'frame_00623', 'frame_00624'])\n"
     ]
    }
   ],
   "source": [
    "dir = data_voley.keys()\n",
    "print(dir)"
   ]
  },
  {
   "cell_type": "code",
   "execution_count": 7,
   "metadata": {},
   "outputs": [
    {
     "name": "stdout",
     "output_type": "stream",
     "text": [
      "['frame_00000', 'frame_00001', 'frame_00002', 'frame_00003', 'frame_00004', 'frame_00005', 'frame_00006', 'frame_00007', 'frame_00008', 'frame_00009', 'frame_00010', 'frame_00011', 'frame_00012', 'frame_00013', 'frame_00014', 'frame_00015', 'frame_00016', 'frame_00017', 'frame_00018', 'frame_00019', 'frame_00020', 'frame_00021', 'frame_00022', 'frame_00023', 'frame_00024', 'frame_00025', 'frame_00026', 'frame_00027', 'frame_00028', 'frame_00029', 'frame_00030', 'frame_00031', 'frame_00032', 'frame_00033', 'frame_00034', 'frame_00035', 'frame_00036', 'frame_00037', 'frame_00038', 'frame_00039', 'frame_00040', 'frame_00041', 'frame_00042', 'frame_00043', 'frame_00044', 'frame_00045', 'frame_00046', 'frame_00047', 'frame_00048', 'frame_00049', 'frame_00050', 'frame_00051', 'frame_00052', 'frame_00053', 'frame_00054', 'frame_00055', 'frame_00056', 'frame_00057', 'frame_00058', 'frame_00059', 'frame_00060', 'frame_00061', 'frame_00062', 'frame_00063', 'frame_00064', 'frame_00065', 'frame_00066', 'frame_00067', 'frame_00068', 'frame_00069', 'frame_00070', 'frame_00071', 'frame_00072', 'frame_00073', 'frame_00074', 'frame_00075', 'frame_00076', 'frame_00077', 'frame_00078', 'frame_00079', 'frame_00080', 'frame_00081', 'frame_00082', 'frame_00083', 'frame_00084', 'frame_00085', 'frame_00086', 'frame_00087', 'frame_00088', 'frame_00089', 'frame_00090', 'frame_00091', 'frame_00092', 'frame_00093', 'frame_00094', 'frame_00095', 'frame_00096', 'frame_00097', 'frame_00098', 'frame_00099', 'frame_00100', 'frame_00101', 'frame_00102', 'frame_00103', 'frame_00104', 'frame_00105', 'frame_00106', 'frame_00107', 'frame_00108', 'frame_00109', 'frame_00110', 'frame_00111', 'frame_00112', 'frame_00113', 'frame_00114', 'frame_00115', 'frame_00116', 'frame_00117', 'frame_00118', 'frame_00119', 'frame_00120', 'frame_00121', 'frame_00122', 'frame_00123', 'frame_00124', 'frame_00125', 'frame_00126', 'frame_00127', 'frame_00128', 'frame_00129', 'frame_00130', 'frame_00131', 'frame_00132', 'frame_00133', 'frame_00134', 'frame_00135', 'frame_00136', 'frame_00137', 'frame_00138', 'frame_00139', 'frame_00140', 'frame_00141', 'frame_00142', 'frame_00143', 'frame_00144', 'frame_00145', 'frame_00146', 'frame_00147', 'frame_00148', 'frame_00149', 'frame_00150', 'frame_00151', 'frame_00152', 'frame_00153', 'frame_00154', 'frame_00155', 'frame_00156', 'frame_00157', 'frame_00158', 'frame_00159', 'frame_00160', 'frame_00161', 'frame_00162', 'frame_00163', 'frame_00164', 'frame_00165', 'frame_00166', 'frame_00167', 'frame_00168', 'frame_00169', 'frame_00170', 'frame_00171', 'frame_00172', 'frame_00173', 'frame_00174', 'frame_00175', 'frame_00176', 'frame_00177', 'frame_00178', 'frame_00179', 'frame_00180', 'frame_00181', 'frame_00182', 'frame_00183', 'frame_00184', 'frame_00185', 'frame_00186', 'frame_00187', 'frame_00188', 'frame_00189', 'frame_00190', 'frame_00191', 'frame_00192', 'frame_00193', 'frame_00194', 'frame_00195', 'frame_00196', 'frame_00197', 'frame_00198', 'frame_00199', 'frame_00200', 'frame_00201', 'frame_00202', 'frame_00203', 'frame_00204', 'frame_00205', 'frame_00206', 'frame_00207', 'frame_00208', 'frame_00209', 'frame_00210', 'frame_00211', 'frame_00212', 'frame_00213', 'frame_00214', 'frame_00215', 'frame_00216', 'frame_00217', 'frame_00218', 'frame_00219', 'frame_00220', 'frame_00221', 'frame_00222', 'frame_00223', 'frame_00224', 'frame_00225', 'frame_00226', 'frame_00227', 'frame_00228', 'frame_00229', 'frame_00230', 'frame_00231', 'frame_00232', 'frame_00233', 'frame_00234', 'frame_00235', 'frame_00236', 'frame_00237', 'frame_00238', 'frame_00239', 'frame_00240', 'frame_00241', 'frame_00242', 'frame_00243', 'frame_00244', 'frame_00245', 'frame_00246', 'frame_00247', 'frame_00248', 'frame_00249', 'frame_00250', 'frame_00251', 'frame_00252', 'frame_00253', 'frame_00254', 'frame_00255', 'frame_00256', 'frame_00257', 'frame_00258', 'frame_00259', 'frame_00260', 'frame_00261', 'frame_00262', 'frame_00263', 'frame_00264', 'frame_00265', 'frame_00266', 'frame_00267', 'frame_00268', 'frame_00269', 'frame_00270', 'frame_00271', 'frame_00272', 'frame_00273', 'frame_00274', 'frame_00275', 'frame_00276', 'frame_00277', 'frame_00278', 'frame_00279', 'frame_00280', 'frame_00281', 'frame_00282', 'frame_00283', 'frame_00284', 'frame_00285', 'frame_00286', 'frame_00287', 'frame_00288', 'frame_00289', 'frame_00290', 'frame_00291', 'frame_00292', 'frame_00293', 'frame_00294', 'frame_00295', 'frame_00296', 'frame_00297', 'frame_00298', 'frame_00299', 'frame_00300', 'frame_00301', 'frame_00302', 'frame_00303', 'frame_00304', 'frame_00305', 'frame_00306', 'frame_00307', 'frame_00308', 'frame_00309', 'frame_00310', 'frame_00311', 'frame_00312', 'frame_00313', 'frame_00314', 'frame_00315', 'frame_00316', 'frame_00317', 'frame_00318', 'frame_00319', 'frame_00320', 'frame_00321', 'frame_00322', 'frame_00323', 'frame_00324', 'frame_00325', 'frame_00326', 'frame_00327', 'frame_00328', 'frame_00329', 'frame_00330', 'frame_00331', 'frame_00332', 'frame_00333', 'frame_00334', 'frame_00335', 'frame_00336', 'frame_00337', 'frame_00338', 'frame_00339', 'frame_00340', 'frame_00341', 'frame_00342', 'frame_00343', 'frame_00344', 'frame_00345', 'frame_00346', 'frame_00347', 'frame_00348', 'frame_00349', 'frame_00350', 'frame_00351', 'frame_00352', 'frame_00353', 'frame_00354', 'frame_00355', 'frame_00356', 'frame_00357', 'frame_00358', 'frame_00359', 'frame_00360', 'frame_00361', 'frame_00362', 'frame_00363', 'frame_00364', 'frame_00365', 'frame_00366', 'frame_00367', 'frame_00368', 'frame_00369', 'frame_00370', 'frame_00371', 'frame_00372', 'frame_00373', 'frame_00374', 'frame_00375', 'frame_00376', 'frame_00377', 'frame_00378', 'frame_00379', 'frame_00380', 'frame_00381', 'frame_00382', 'frame_00383', 'frame_00384', 'frame_00385', 'frame_00386', 'frame_00387', 'frame_00388', 'frame_00389', 'frame_00390', 'frame_00391', 'frame_00392', 'frame_00393', 'frame_00394', 'frame_00395', 'frame_00396', 'frame_00397', 'frame_00398', 'frame_00399', 'frame_00400', 'frame_00401', 'frame_00402', 'frame_00403', 'frame_00404', 'frame_00405', 'frame_00406', 'frame_00407', 'frame_00408', 'frame_00409', 'frame_00410', 'frame_00411', 'frame_00412', 'frame_00413', 'frame_00414', 'frame_00415', 'frame_00416', 'frame_00417', 'frame_00418', 'frame_00419', 'frame_00420', 'frame_00421', 'frame_00422', 'frame_00423', 'frame_00424', 'frame_00425', 'frame_00426', 'frame_00427', 'frame_00428', 'frame_00429', 'frame_00430', 'frame_00431', 'frame_00432', 'frame_00433', 'frame_00434', 'frame_00435', 'frame_00436', 'frame_00437', 'frame_00438', 'frame_00439', 'frame_00440', 'frame_00441', 'frame_00442', 'frame_00443', 'frame_00444', 'frame_00445', 'frame_00446', 'frame_00447', 'frame_00448', 'frame_00449', 'frame_00450', 'frame_00451', 'frame_00452', 'frame_00453', 'frame_00454', 'frame_00455', 'frame_00456', 'frame_00457', 'frame_00458', 'frame_00459', 'frame_00460', 'frame_00461', 'frame_00462', 'frame_00463', 'frame_00464', 'frame_00465', 'frame_00466', 'frame_00467', 'frame_00468', 'frame_00469', 'frame_00470', 'frame_00471', 'frame_00472', 'frame_00473', 'frame_00474', 'frame_00475', 'frame_00476', 'frame_00477', 'frame_00478', 'frame_00479', 'frame_00480', 'frame_00481', 'frame_00482', 'frame_00483', 'frame_00484', 'frame_00485', 'frame_00486', 'frame_00487', 'frame_00488', 'frame_00489', 'frame_00490', 'frame_00491', 'frame_00492', 'frame_00493', 'frame_00494', 'frame_00495', 'frame_00496', 'frame_00497', 'frame_00498', 'frame_00499', 'frame_00500', 'frame_00501', 'frame_00502', 'frame_00503', 'frame_00504', 'frame_00505', 'frame_00506', 'frame_00507', 'frame_00508', 'frame_00509', 'frame_00510', 'frame_00511', 'frame_00512', 'frame_00513', 'frame_00514', 'frame_00515', 'frame_00516', 'frame_00517', 'frame_00518', 'frame_00519', 'frame_00520', 'frame_00521', 'frame_00522', 'frame_00523', 'frame_00524', 'frame_00525', 'frame_00526', 'frame_00527', 'frame_00528', 'frame_00529', 'frame_00530', 'frame_00531', 'frame_00532', 'frame_00533', 'frame_00534', 'frame_00535', 'frame_00536', 'frame_00537', 'frame_00538', 'frame_00539', 'frame_00540', 'frame_00541', 'frame_00542', 'frame_00543', 'frame_00544', 'frame_00545', 'frame_00546', 'frame_00547', 'frame_00548', 'frame_00549', 'frame_00550', 'frame_00551', 'frame_00552', 'frame_00553', 'frame_00554', 'frame_00555', 'frame_00556', 'frame_00557', 'frame_00558', 'frame_00559', 'frame_00560', 'frame_00561', 'frame_00562', 'frame_00563', 'frame_00564', 'frame_00565', 'frame_00566', 'frame_00567', 'frame_00568', 'frame_00569', 'frame_00570', 'frame_00571', 'frame_00572', 'frame_00573', 'frame_00574', 'frame_00575', 'frame_00576', 'frame_00577', 'frame_00578', 'frame_00579', 'frame_00580', 'frame_00581', 'frame_00582', 'frame_00583', 'frame_00584', 'frame_00585', 'frame_00586', 'frame_00587', 'frame_00588', 'frame_00589', 'frame_00590', 'frame_00591', 'frame_00592', 'frame_00593', 'frame_00594', 'frame_00595', 'frame_00596', 'frame_00597', 'frame_00598', 'frame_00599', 'frame_00600', 'frame_00601', 'frame_00602', 'frame_00603', 'frame_00604', 'frame_00605', 'frame_00606', 'frame_00607', 'frame_00608', 'frame_00609', 'frame_00610', 'frame_00611', 'frame_00612', 'frame_00613', 'frame_00614', 'frame_00615', 'frame_00616', 'frame_00617', 'frame_00618', 'frame_00619', 'frame_00620', 'frame_00621', 'frame_00622', 'frame_00623', 'frame_00624']\n"
     ]
    }
   ],
   "source": [
    "frame_vec = [key for key in dir if 'frame' in key]\n",
    "print(frame_vec)"
   ]
  },
  {
   "cell_type": "code",
   "execution_count": 8,
   "metadata": {},
   "outputs": [
    {
     "name": "stdout",
     "output_type": "stream",
     "text": [
      "[[352.03473 206.6907  386.95502 299.30954]\n",
      " [189.47818 207.11926 215.80367 284.68018]\n",
      " [202.44066 147.15102 233.79086 211.44864]\n",
      " [285.69373 142.75615 313.22214 215.60463]\n",
      " [502.64255 183.19545 526.9245  265.55597]\n",
      " [425.12292 157.8058  444.29767 226.56754]\n",
      " [144.40172 171.17253 172.50603 241.71176]\n",
      " [475.17868 173.70665 496.0248  230.7696 ]\n",
      " [389.24463 183.55629 408.01248 214.57742]\n",
      " [444.5158  215.89565 476.41592 292.89658]\n",
      " [291.39172 219.08073 318.53748 302.35126]\n",
      " [312.75354 198.56621 341.02017 272.58203]]\n",
      "(12, 4)\n",
      "[[ 42.  66.  91.  96. 105. 106. 107. 108. 103. 109. 100. 110.]]\n",
      "(1, 12)\n"
     ]
    }
   ],
   "source": [
    "counter = -10\n",
    "\n",
    "test_data_xyxy = data_voley[frame_vec[counter]]['xyxy']\n",
    "print(test_data_xyxy[0][0])\n",
    "print(test_data_xyxy[0][0].shape)\n",
    "\n",
    "test_data_id = data_voley[frame_vec[counter]]['id']\n",
    "\n",
    "print(test_data_id[0][0])\n",
    "print(test_data_id[0][0].shape)"
   ]
  },
  {
   "cell_type": "code",
   "execution_count": 9,
   "metadata": {},
   "outputs": [
    {
     "data": {
      "text/plain": [
       "array([-34.920288, -26.325485, -31.350204, -27.528412, -24.281952,\n",
       "       -19.174744, -28.10431 , -20.84613 , -18.767853, -31.900116,\n",
       "       -27.145752, -28.266632], dtype=float32)"
      ]
     },
     "execution_count": 9,
     "metadata": {},
     "output_type": "execute_result"
    }
   ],
   "source": [
    "test_data_xyxy[0][0][:, 0] - test_data_xyxy[0][0][:, 2]"
   ]
  },
  {
   "cell_type": "code",
   "execution_count": 11,
   "metadata": {},
   "outputs": [],
   "source": [
    "data_2 = scipy.io.loadmat(\"volley/input/kp_0001.mat\")"
   ]
  },
  {
   "cell_type": "code",
   "execution_count": 12,
   "metadata": {},
   "outputs": [
    {
     "data": {
      "text/plain": [
       "dict_keys(['__header__', '__version__', '__globals__', 'desc', 'kp'])"
      ]
     },
     "execution_count": 12,
     "metadata": {},
     "output_type": "execute_result"
    }
   ],
   "source": [
    "data_2.keys()"
   ]
  },
  {
   "cell_type": "code",
   "execution_count": 14,
   "metadata": {},
   "outputs": [
    {
     "data": {
      "text/plain": [
       "(812, 2)"
      ]
     },
     "execution_count": 14,
     "metadata": {},
     "output_type": "execute_result"
    }
   ],
   "source": [
    "data_2['kp'].shape"
   ]
  },
  {
   "cell_type": "code",
   "execution_count": 19,
   "metadata": {},
   "outputs": [],
   "source": [
    "data_xyxy = data_voley['frame_00003']['xyxy'][0][0]\n",
    "data_id = data_voley['frame_00003']['id'][0][0]\n",
    "\n",
    "\n",
    "cm_x = (data_xyxy[:,0] + data_xyxy[:,2]) / 2\n",
    "cm_y = (data_xyxy[:,1] + data_xyxy[:,3]) / 2\n",
    "\n",
    "cm_points = np.column_stack((cm_x, cm_y))\n",
    "cm_points_hom = np.column_stack((cm_points, np.ones((cm_points.shape[0], 1)))).T"
   ]
  },
  {
   "cell_type": "code",
   "execution_count": 23,
   "metadata": {},
   "outputs": [
    {
     "name": "stdout",
     "output_type": "stream",
     "text": [
      "[[ 76.225296 184.77203 ]\n",
      " [402.92154  127.83411 ]\n",
      " [368.7205   204.61005 ]\n",
      " [253.2613    94.00595 ]\n",
      " [339.2146    94.67466 ]\n",
      " [531.67755  231.16673 ]\n",
      " [563.6171    97.602425]\n",
      " [488.00616  176.99004 ]]\n",
      "(3, 8)\n"
     ]
    }
   ],
   "source": [
    "print(cm_points)\n",
    "print(cm_points_hom.shape)"
   ]
  },
  {
   "cell_type": "code",
   "execution_count": null,
   "metadata": {},
   "outputs": [],
   "source": [
    "    \n",
    "    # cm_x = (data_xyxy[:,0] + data_xyxy[:,2]) / 2\n",
    "    # cm_y = (data_xyxy[:,1] + data_xyxy[:,3]) / 2\n",
    "    \n",
    "    # cm_points = np.column_stack((cm_x, cm_y))\n",
    "    # cm_points_hom = np.column_stack((cm_points, np.ones((cm_points.shape[0], 1)))).T"
   ]
  },
  {
   "cell_type": "code",
   "execution_count": 24,
   "metadata": {},
   "outputs": [
    {
     "name": "stdout",
     "output_type": "stream",
     "text": [
      "0010\n",
      "0100\n"
     ]
    }
   ],
   "source": [
    "k1 = 10\n",
    "k2 = 100\n",
    "\n",
    "k1_padded = str(k1).zfill(4)\n",
    "k2_padded = str(k2).zfill(4)\n",
    "\n",
    "print(k1_padded)  # Output: 0010\n",
    "print(k2_padded)  # Output: 0100"
   ]
  },
  {
   "cell_type": "code",
   "execution_count": 32,
   "metadata": {},
   "outputs": [],
   "source": [
    "###\n",
    "data_yolo_test = scipy.io.loadmat(\"volley/input/yolo_0249.mat\")"
   ]
  },
  {
   "cell_type": "code",
   "execution_count": 33,
   "metadata": {},
   "outputs": [
    {
     "name": "stdout",
     "output_type": "stream",
     "text": [
      "dict_keys(['__header__', '__version__', '__globals__', 'class', 'id', 'xyxy'])\n"
     ]
    }
   ],
   "source": [
    "print(data_yolo_test.keys())"
   ]
  },
  {
   "cell_type": "code",
   "execution_count": 35,
   "metadata": {},
   "outputs": [
    {
     "name": "stdout",
     "output_type": "stream",
     "text": [
      "[[326.64     269.72626  363.7494   180.87267 ]\n",
      " [378.03906  199.57358  403.8358   141.19751 ]\n",
      " [470.57172  215.80435  497.21234  144.13885 ]\n",
      " [312.2186   122.51473  331.55655   71.41983 ]\n",
      " [270.6435   241.03583  303.1701   172.03674 ]\n",
      " [107.59027  237.78777  180.49913  196.86739 ]\n",
      " [200.6732   161.10031  236.42816  119.557816]\n",
      " [408.74332  189.64667  429.58356  128.17209 ]\n",
      " [ 19.94265  359.84622   60.533806 315.13284 ]]\n",
      "[[42.]\n",
      " [52.]\n",
      " [56.]\n",
      " [61.]\n",
      " [62.]\n",
      " [64.]\n",
      " [65.]\n",
      " [58.]\n",
      " [67.]]\n"
     ]
    }
   ],
   "source": [
    "print(data_yolo_test['xyxy'])\n",
    "print(data_yolo_test['id'])"
   ]
  },
  {
   "cell_type": "code",
   "execution_count": null,
   "metadata": {},
   "outputs": [],
   "source": []
  }
 ],
 "metadata": {
  "kernelspec": {
   "display_name": "LLM",
   "language": "python",
   "name": "python3"
  },
  "language_info": {
   "codemirror_mode": {
    "name": "ipython",
    "version": 3
   },
   "file_extension": ".py",
   "mimetype": "text/x-python",
   "name": "python",
   "nbconvert_exporter": "python",
   "pygments_lexer": "ipython3",
   "version": "3.12.7"
  }
 },
 "nbformat": 4,
 "nbformat_minor": 2
}
