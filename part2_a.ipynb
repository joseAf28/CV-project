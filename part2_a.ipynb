{
 "cells": [
  {
   "cell_type": "code",
   "execution_count": 1,
   "metadata": {},
   "outputs": [],
   "source": [
    "import numpy as np\n",
    "import matplotlib.pyplot as plt\n",
    "import scipy\n",
    "import cv2"
   ]
  },
  {
   "cell_type": "code",
   "execution_count": 2,
   "metadata": {},
   "outputs": [],
   "source": [
    "cams_info_data = scipy.io.loadmat('office/cams_info_no_extr.mat')\n",
    "kp_data = scipy.io.loadmat('office/kp.mat')\n",
    "wrld_data = scipy.io.loadmat('office/wrld_info.mat')"
   ]
  },
  {
   "cell_type": "code",
   "execution_count": 41,
   "metadata": {},
   "outputs": [
    {
     "name": "stdout",
     "output_type": "stream",
     "text": [
      "dict_keys(['__header__', '__version__', '__globals__', 'cams_info'])\n",
      "409.66916\n",
      "403.96414\n",
      "415.427\n",
      "(512, 256, 3)\n",
      "(512, 256)\n",
      "(512, 256)\n"
     ]
    }
   ],
   "source": [
    "print(cams_info_data.keys())\n",
    "print(cams_info_data['cams_info'][1][0]['focal_lenght'][0,0][0,0])\n",
    "print(cams_info_data['cams_info'][2][0]['focal_lenght'][0,0][0,0])\n",
    "print(cams_info_data['cams_info'][3][0]['focal_lenght'][0,0][0,0])\n",
    "print(cams_info_data['cams_info'][9][0]['rgb'][0][0].shape)\n",
    "print(cams_info_data['cams_info'][0][0]['depth'][0][0].shape)\n",
    "print(cams_info_data['cams_info'][0][0]['conf'][0][0].shape)"
   ]
  },
  {
   "cell_type": "code",
   "execution_count": 26,
   "metadata": {},
   "outputs": [],
   "source": [
    "# print(cams_info_data['cams_info'][9][0])"
   ]
  },
  {
   "cell_type": "code",
   "execution_count": 4,
   "metadata": {},
   "outputs": [
    {
     "name": "stdout",
     "output_type": "stream",
     "text": [
      "dict_keys(['__header__', '__version__', '__globals__', 'Feature_img10_00000', 'Feature_img1_00000', 'Feature_img2_00000', 'Feature_img3_00000', 'Feature_img4_00000', 'Feature_img5_00000', 'Feature_img6_00000', 'Feature_img7_00000', 'Feature_img8_00000', 'Feature_img9_00000'])\n",
      "[[  2.40925264 112.49050903]\n",
      " [  2.65730381 117.12319183]\n",
      " [  3.74298596 168.68489075]\n",
      " ...\n",
      " [250.55123901 311.99728394]\n",
      " [251.71585083 277.08444214]\n",
      " [252.17602539 383.51010132]]\n",
      "[[ 46.  13.   2. ...   0.   3.   0.]\n",
      " [  5.  37. 123. ...   0.   0.   0.]\n",
      " [  0.   0.   0. ...   0.   0.   0.]\n",
      " ...\n",
      " [ 19.   0.   0. ...   0.   0.   0.]\n",
      " [154.  77.   7. ...   0.   0.   0.]\n",
      " [124.  22.   0. ...   0.   0.   0.]]\n",
      "(484, 2)\n",
      "(484, 128)\n"
     ]
    }
   ],
   "source": [
    "print(kp_data.keys())\n",
    "print(kp_data['Feature_img10_00000'][0][0][0])\n",
    "print(kp_data['Feature_img10_00000'][0][0][1])\n",
    "\n",
    "print(kp_data['Feature_img1_00000'][0][0][0].shape)\n",
    "print(kp_data['Feature_img1_00000'][0][0][1].shape)"
   ]
  },
  {
   "cell_type": "code",
   "execution_count": null,
   "metadata": {},
   "outputs": [],
   "source": []
  }
 ],
 "metadata": {
  "kernelspec": {
   "display_name": "LLM",
   "language": "python",
   "name": "python3"
  },
  "language_info": {
   "codemirror_mode": {
    "name": "ipython",
    "version": 3
   },
   "file_extension": ".py",
   "mimetype": "text/x-python",
   "name": "python",
   "nbconvert_exporter": "python",
   "pygments_lexer": "ipython3",
   "version": "3.12.7"
  }
 },
 "nbformat": 4,
 "nbformat_minor": 2
}
