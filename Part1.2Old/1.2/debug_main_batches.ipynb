{
 "cells": [
  {
   "cell_type": "code",
   "execution_count": 1,
   "metadata": {},
   "outputs": [],
   "source": [
    "import numpy as np\n",
    "from scipy.io import loadmat\n",
    "import src\n",
    "import matplotlib.pyplot as plt\n",
    "from scipy.spatial.distance import cdist\n",
    "import scipy"
   ]
  },
  {
   "cell_type": "code",
   "execution_count": 2,
   "metadata": {},
   "outputs": [],
   "source": [
    "def load_keypoints(file_path):\n",
    "    data = loadmat(file_path)\n",
    "    kp = data['kp']  #Keypoints (Nx2 matrix)\n",
    "    desc = data['desc']  # Descritores(NxD matrix)\n",
    "    return kp, desc"
   ]
  },
  {
   "cell_type": "code",
   "execution_count": 3,
   "metadata": {},
   "outputs": [],
   "source": [
    "# Inicializar o mosaico\n",
    "initial_image_path = 'ISRwall/input_1/images/img_0001.jpg'\n",
    "initial_image = src.image_to_matrix(initial_image_path)\n",
    "width, height = (20000,10000)\n",
    "start=2000\n",
    "dst = np.full((height, width, initial_image.shape[2] if initial_image.ndim == 3 else 1), 0, dtype=initial_image.dtype)\n",
    "\n",
    "for y in range(initial_image.shape[0]):\n",
    "    for x in range(initial_image.shape[1]):\n",
    "        if 0 <= x+12000 < width and 0 <= y+6000 < height:\n",
    "            dst[y+6000, x+12000] = initial_image[y, x]\n",
    "\n",
    "src.matrix_to_image(dst, f\"final_mosaic.jpg\")"
   ]
  },
  {
   "cell_type": "code",
   "execution_count": 4,
   "metadata": {},
   "outputs": [
    {
     "name": "stdout",
     "output_type": "stream",
     "text": [
      "kp1:  (6106, 2)\n",
      "desc1:  (6106, 64)\n",
      "kp2:  (6808, 2)\n",
      "desc2:  (6808, 64)\n"
     ]
    }
   ],
   "source": [
    "counter = 0\n",
    "\n",
    "kp1, desc1 = load_keypoints(f\"ISRwall/input_1/keypoints/kp_000{counter+1}.mat\")\n",
    "kp2, desc2 = load_keypoints(f\"ISRwall/input_1/keypoints/kp_000{counter+2}.mat\")\n",
    "\n",
    "\n",
    "\n",
    "print(\"kp1: \", kp1.shape)\n",
    "print(\"desc1: \", desc1.shape)\n",
    "print(\"kp2: \", kp2.shape)\n",
    "print(\"desc2: \", desc2.shape)"
   ]
  },
  {
   "cell_type": "code",
   "execution_count": 5,
   "metadata": {},
   "outputs": [],
   "source": [
    "def matching_optional(desc1, desc2, threshold=0.25):\n",
    "    \n",
    "    distances = scipy.spatial.distance.cdist(desc1, desc2, 'euclidean') ## calculate the distances between each query descriptor and each train descriptor: i -> query, j -> train\n",
    "    sorted_indices = np.argsort(distances, axis=1)[:, :2]\n",
    "    \n",
    "    first_min_indices = sorted_indices[:, 0]\n",
    "    second_min_indices = sorted_indices[:, 1]\n",
    "\n",
    "    first_min_distances = distances[np.arange(distances.shape[0]), first_min_indices]\n",
    "    second_min_distances = distances[np.arange(distances.shape[0]), second_min_indices]\n",
    "\n",
    "    condition = first_min_distances < threshold * second_min_distances\n",
    "    matches = np.column_stack((np.where(condition)[0], first_min_indices[condition]))\n",
    "    \n",
    "    return matches"
   ]
  },
  {
   "cell_type": "code",
   "execution_count": 7,
   "metadata": {},
   "outputs": [],
   "source": [
    "matches = matching_optional(desc1, desc2)"
   ]
  },
  {
   "cell_type": "code",
   "execution_count": 12,
   "metadata": {},
   "outputs": [],
   "source": [
    "inlier_threshold = 2.0\n",
    "batch_size = 2\n",
    "\n",
    "batch_sample = np.random.choice(matches_2.shape[0], (batch_size, 4), replace=False)\n",
    "\n",
    "src_pts_batches = kp1[matches_2[batch_sample[:, 0]]]\n",
    "dts_pts_batches = kp2[matches_2[batch_sample[:, 1]]]\n",
    "\n",
    "H_batches = np.array([src.getPerspectiveTransform(src_pts, dst_pts) for src_pts, dst_pts in zip(src_pts_batches, dts_pts_batches)])\n",
    "\n",
    "H_batches_unified = np.hstack(H_batches)"
   ]
  },
  {
   "cell_type": "code",
   "execution_count": 14,
   "metadata": {},
   "outputs": [
    {
     "name": "stdout",
     "output_type": "stream",
     "text": [
      "[[[ 9.14227920e-05 -5.00520468e-04 -1.13462550e-04]\n",
      "  [-7.74837042e-06  3.02409560e-06  1.08587197e-08]\n",
      "  [-4.80541678e-04 -2.02083371e-04  1.00000000e+00]]\n",
      "\n",
      " [[ 3.19382433e-04  5.23468434e-05 -3.08288390e-04]\n",
      "  [ 3.42696349e-04 -2.45860916e-04 -1.41544740e-08]\n",
      "  [-6.02802379e-04 -1.19401847e-04  1.00000000e+00]]]\n",
      "(2, 3, 3)\n",
      "\n",
      "[[ 9.14227920e-05 -5.00520468e-04 -1.13462550e-04  3.19382433e-04\n",
      "   5.23468434e-05 -3.08288390e-04]\n",
      " [-7.74837042e-06  3.02409560e-06  1.08587197e-08  3.42696349e-04\n",
      "  -2.45860916e-04 -1.41544740e-08]\n",
      " [-4.80541678e-04 -2.02083371e-04  1.00000000e+00 -6.02802379e-04\n",
      "  -1.19401847e-04  1.00000000e+00]]\n",
      "(3, 6)\n"
     ]
    }
   ],
   "source": [
    "print(H_batches)\n",
    "print(H_batches.shape)\n",
    "\n",
    "print()\n",
    "print(H_batches_unified)\n",
    "print(H_batches_unified.shape)"
   ]
  },
  {
   "cell_type": "code",
   "execution_count": null,
   "metadata": {},
   "outputs": [],
   "source": []
  },
  {
   "cell_type": "code",
   "execution_count": 21,
   "metadata": {},
   "outputs": [
    {
     "name": "stdout",
     "output_type": "stream",
     "text": [
      "[[1.52867529e+03 1.10878992e+03 1.00000000e+00]\n",
      " [2.80704980e+03 1.06965356e+03 1.00000000e+00]\n",
      " [1.51490808e+03 8.26793152e+02 1.00000000e+00]\n",
      " [2.11259399e+03 8.11127136e+02 1.00000000e+00]\n",
      " [2.19201953e+03 8.09396790e+02 1.00000000e+00]\n",
      " [2.65929443e+03 1.12781799e+03 1.00000000e+00]\n",
      " [1.98127258e+03 8.35782349e+02 1.00000000e+00]\n",
      " [1.77079089e+03 1.28695178e+03 1.00000000e+00]\n",
      " [2.13739819e+03 1.35662537e+03 1.00000000e+00]\n",
      " [2.15568701e+03 1.31542883e+03 1.00000000e+00]]\n"
     ]
    }
   ],
   "source": [
    "src_pts_hom_aux = np.column_stack((kp1[matches_2[:, 0]], np.ones((matches_2.shape[0], 1))))\n",
    "print(src_pts_hom_aux[:10])"
   ]
  },
  {
   "cell_type": "code",
   "execution_count": 20,
   "metadata": {},
   "outputs": [
    {
     "name": "stdout",
     "output_type": "stream",
     "text": [
      "(3, 170)\n",
      "[[1.52867529e+03 2.80704980e+03 1.51490808e+03 2.11259399e+03\n",
      "  2.19201953e+03]\n",
      " [1.10878992e+03 1.06965356e+03 8.26793152e+02 8.11127136e+02\n",
      "  8.09396790e+02]\n",
      " [1.00000000e+00 1.00000000e+00 1.00000000e+00 1.00000000e+00\n",
      "  1.00000000e+00]]\n"
     ]
    }
   ],
   "source": [
    "src_pts_hom_zero = np.column_stack((kp1[matches_2[:, 0]], np.ones((matches_2.shape[0], 1)))).T\n",
    "src_pts_hom_batch = np.vstack()"
   ]
  },
  {
   "cell_type": "code",
   "execution_count": null,
   "metadata": {},
   "outputs": [],
   "source": []
  }
 ],
 "metadata": {
  "kernelspec": {
   "display_name": "LLM",
   "language": "python",
   "name": "python3"
  },
  "language_info": {
   "codemirror_mode": {
    "name": "ipython",
    "version": 3
   },
   "file_extension": ".py",
   "mimetype": "text/x-python",
   "name": "python",
   "nbconvert_exporter": "python",
   "pygments_lexer": "ipython3",
   "version": "3.12.7"
  }
 },
 "nbformat": 4,
 "nbformat_minor": 2
}
