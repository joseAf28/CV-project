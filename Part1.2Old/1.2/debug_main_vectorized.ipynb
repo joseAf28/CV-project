{
 "cells": [
  {
   "cell_type": "code",
   "execution_count": null,
   "metadata": {},
   "outputs": [],
   "source": []
  },
  {
   "cell_type": "code",
   "execution_count": 1,
   "metadata": {},
   "outputs": [],
   "source": [
    "import numpy as np\n",
    "from scipy.io import loadmat\n",
    "import src\n",
    "import matplotlib.pyplot as plt\n",
    "from scipy.spatial.distance import cdist\n",
    "import scipy"
   ]
  },
  {
   "cell_type": "code",
   "execution_count": 2,
   "metadata": {},
   "outputs": [],
   "source": [
    "## fix random seed for reproducibility\n",
    "np.random.seed(1)"
   ]
  },
  {
   "cell_type": "code",
   "execution_count": 3,
   "metadata": {},
   "outputs": [],
   "source": [
    "def load_keypoints(file_path):\n",
    "    data = loadmat(file_path)\n",
    "    kp = data['kp']  #Keypoints (Nx2 matrix)\n",
    "    desc = data['desc']  # Descritores(NxD matrix)\n",
    "    return kp, desc"
   ]
  },
  {
   "cell_type": "code",
   "execution_count": 4,
   "metadata": {},
   "outputs": [],
   "source": [
    "def match_keypoints_ransac(desc1, desc2, kp1, kp2, threshold=0.25, max_iter=5000, inlier_threshold=2.0):\n",
    "    #calcula a distncia entre os descritores\n",
    "    distances = cdist(desc1, desc2)\n",
    "    matches = []\n",
    "\n",
    "\n",
    "    \"\"\"\n",
    "    matches = []\n",
    "    for i, ref_vector in enumerate(ref_desc):\n",
    "        distances = np.linalg.norm(frame_desc - ref_vector, axis=1)\n",
    "        sorted_indices = np.argsort(distances)\n",
    "        closest_idx = sorted_indices[0]\n",
    "        second_closest_idx = sorted_indices[1]\n",
    "        if distances[closest_idx] < ratio_threshold * distances[second_closest_idx]:\n",
    "            matches.append([i, closest_idx])\n",
    "    matches = np.array(matches)\"\"\"\n",
    "\n",
    "\n",
    "    for i, row in enumerate(distances):\n",
    "        sorted_indices = np.argsort(row)\n",
    "        if row[sorted_indices[0]] < threshold * row[sorted_indices[1]]:\n",
    "            matches.append((i, sorted_indices[0]))\n",
    "\n",
    "    matches = np.array(matches)\n",
    "    best_inliers = []\n",
    "    best_H = None\n",
    "\n",
    "    for _ in range(max_iter):\n",
    "        #4 matches aleatórios (usar mais?)\n",
    "        sampled_matches = matches[np.random.choice(matches.shape[0], 8, replace=False)]\n",
    "        src_pts = kp1[sampled_matches[:, 0]]\n",
    "        dst_pts = kp2[sampled_matches[:, 1]]\n",
    "\n",
    "        H = src.getPerspectiveTransform(src_pts,dst_pts)\n",
    "        \n",
    "        inliers = []\n",
    "        for match in matches:\n",
    "            pt1 = kp1[match[0]]\n",
    "            pt2 = kp2[match[1]]\n",
    "            \n",
    "            \n",
    "            pt1_hom = np.append(pt1, 1)  \n",
    "            transformed_pt = H @ pt1_hom\n",
    "            transformed_pt /= transformed_pt[2]  \n",
    "            \n",
    "            \n",
    "            dist = np.linalg.norm(transformed_pt[:2] - pt2)\n",
    "            if dist < inlier_threshold:\n",
    "                inliers.append(match)\n",
    "\n",
    "        # Se o número de inliers for maior que o melhor encontrado, atualizar\n",
    "        if len(inliers) > len(best_inliers):\n",
    "            best_inliers = inliers\n",
    "            best_H = H\n",
    "            \n",
    "        best_inliers = np.array(best_inliers)\n",
    "\n",
    "    return best_inliers, best_H"
   ]
  },
  {
   "cell_type": "code",
   "execution_count": 5,
   "metadata": {},
   "outputs": [],
   "source": [
    "def matching_optional(desc1, desc2, threshold=0.25):\n",
    "    \n",
    "    distances = scipy.spatial.distance.cdist(desc1, desc2, 'euclidean') ## calculate the distances between each query descriptor and each train descriptor: i -> query, j -> train\n",
    "    sorted_indices = np.argsort(distances, axis=1)[:, :2]\n",
    "    \n",
    "    first_min_indices = sorted_indices[:, 0]\n",
    "    second_min_indices = sorted_indices[:, 1]\n",
    "\n",
    "    first_min_distances = distances[np.arange(distances.shape[0]), first_min_indices]\n",
    "    second_min_distances = distances[np.arange(distances.shape[0]), second_min_indices]\n",
    "\n",
    "    condition = first_min_distances < threshold * second_min_distances\n",
    "    matches = np.column_stack((np.where(condition)[0], first_min_indices[condition]))\n",
    "    \n",
    "    return matches\n",
    "\n",
    "\n",
    "\n",
    "def ransac_vectorized(matches, kp1, kp2, max_iter=5000, inlier_threshold=2.0):\n",
    "\n",
    "    inlier_threshold = 2.0\n",
    "    best_inliers = []\n",
    "    best_H = None\n",
    "    \n",
    "    \n",
    "    for _ in range(max_iter):\n",
    "        \n",
    "        sampled_matches = matches[np.random.choice(matches.shape[0], 4, replace=False)]\n",
    "\n",
    "        H = src.getPerspectiveTransform(kp1[sampled_matches[:, 0]], kp2[sampled_matches[:, 1]])\n",
    "\n",
    "        src_pts_hom = np.column_stack((kp1[matches[:, 0]], np.ones((matches.shape[0], 1)))).T\n",
    "\n",
    "        transformed_pts_hom = (H @ src_pts_hom).T\n",
    "        transformed_pts_hom /= transformed_pts_hom[:, 2][:, None]\n",
    "\n",
    "        dst_pts_all = kp2[matches[:, 1]]\n",
    "        dists = np.linalg.norm(transformed_pts_hom[:, :2] - dst_pts_all, axis=1)\n",
    "\n",
    "        inliers = matches[dists < inlier_threshold]\n",
    "        \n",
    "        if len(inliers) > len(best_inliers):\n",
    "            best_inliers = inliers\n",
    "            best_H = H\n",
    "        \n",
    "    return best_inliers, best_H"
   ]
  },
  {
   "cell_type": "code",
   "execution_count": 6,
   "metadata": {},
   "outputs": [],
   "source": [
    "# Inicializar o mosaico\n",
    "initial_image_path = 'ISRwall/input_1/images/img_0001.jpg'\n",
    "initial_image = src.image_to_matrix(initial_image_path)\n",
    "width, height = (20000,10000)\n",
    "start=2000\n",
    "dst = np.full((height, width, initial_image.shape[2] if initial_image.ndim == 3 else 1), 0, dtype=initial_image.dtype)\n",
    "\n",
    "for y in range(initial_image.shape[0]):\n",
    "    for x in range(initial_image.shape[1]):\n",
    "        if 0 <= x+12000 < width and 0 <= y+6000 < height:\n",
    "            dst[y+6000, x+12000] = initial_image[y, x]\n",
    "\n",
    "src.matrix_to_image(dst, f\"final_mosaic.jpg\")"
   ]
  },
  {
   "cell_type": "code",
   "execution_count": 7,
   "metadata": {},
   "outputs": [],
   "source": [
    "counter = 1\n",
    "\n",
    "kp1, desc1 = load_keypoints(f\"ISRwall/input_1/keypoints/kp_000{counter+1}.mat\")\n",
    "kp2, desc2 = load_keypoints(f\"ISRwall/input_1/keypoints/kp_000{counter+2}.mat\")\n"
   ]
  },
  {
   "cell_type": "code",
   "execution_count": 8,
   "metadata": {},
   "outputs": [],
   "source": [
    "## option 1\n",
    "\n",
    "inliers_1, H_1 = match_keypoints_ransac(desc1, desc2, kp1, kp2, threshold=0.25, max_iter=5000, inlier_threshold=2.0)\n"
   ]
  },
  {
   "cell_type": "code",
   "execution_count": 9,
   "metadata": {},
   "outputs": [],
   "source": [
    "## option 2\n",
    "\n",
    "matches = matching_optional(desc1, desc2, threshold=0.25)\n",
    "\n",
    "inliers_2, H_2 = ransac_vectorized(matches, kp1, kp2, max_iter=5000, inlier_threshold=2.0)"
   ]
  },
  {
   "cell_type": "code",
   "execution_count": 10,
   "metadata": {},
   "outputs": [
    {
     "name": "stdout",
     "output_type": "stream",
     "text": [
      "(74, 2)\n",
      "(71, 2)\n"
     ]
    }
   ],
   "source": [
    "print(np.array(inliers_1).shape)\n",
    "print(inliers_2.shape)"
   ]
  },
  {
   "cell_type": "code",
   "execution_count": 11,
   "metadata": {},
   "outputs": [
    {
     "name": "stdout",
     "output_type": "stream",
     "text": [
      "[[159  53]\n",
      " [190  95]\n",
      " [221 114]\n",
      " [331 135]\n",
      " [458 150]\n",
      " [506 304]\n",
      " [509 126]\n",
      " [660 415]\n",
      " [735 403]\n",
      " [887 602]]\n",
      "\n",
      "[[159  53]\n",
      " [190  95]\n",
      " [221 114]\n",
      " [331 135]\n",
      " [458 150]\n",
      " [506 304]\n",
      " [509 126]\n",
      " [660 415]\n",
      " [735 403]\n",
      " [887 602]]\n"
     ]
    }
   ],
   "source": [
    "print(inliers_1[:10])\n",
    "print()\n",
    "print(inliers_2[:10])"
   ]
  },
  {
   "cell_type": "code",
   "execution_count": null,
   "metadata": {},
   "outputs": [],
   "source": []
  }
 ],
 "metadata": {
  "kernelspec": {
   "display_name": "LLM",
   "language": "python",
   "name": "python3"
  },
  "language_info": {
   "codemirror_mode": {
    "name": "ipython",
    "version": 3
   },
   "file_extension": ".py",
   "mimetype": "text/x-python",
   "name": "python",
   "nbconvert_exporter": "python",
   "pygments_lexer": "ipython3",
   "version": "3.12.7"
  }
 },
 "nbformat": 4,
 "nbformat_minor": 2
}
