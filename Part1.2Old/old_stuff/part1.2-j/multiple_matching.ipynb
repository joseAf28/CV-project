{
 "cells": [
  {
   "cell_type": "code",
   "execution_count": 1,
   "metadata": {},
   "outputs": [],
   "source": [
    "import src2\n",
    "import numpy as np\n",
    "import matplotlib.pyplot as plt\n",
    "import scipy"
   ]
  },
  {
   "cell_type": "code",
   "execution_count": 2,
   "metadata": {},
   "outputs": [],
   "source": [
    "def load_data_query_key(file_key, file_query, input_folder):\n",
    "    \n",
    "    data_query = scipy.io.loadmat(input_folder_name + f\"kp_{file_query}\" + '.mat')\n",
    "    data_key = scipy.io.loadmat(input_folder_name + f\"kp_{file_key}\" + '.mat')\n",
    "    \n",
    "    return data_key, data_query"
   ]
  },
  {
   "cell_type": "code",
   "execution_count": 3,
   "metadata": {},
   "outputs": [],
   "source": [
    "init_file = 1\n",
    "end_file = 9\n",
    "\n",
    "filenames_mat = [f\"000{i}\" for i in range(init_file, end_file+1)]\n",
    "\n",
    "filename_key_query_vec = [(filenames_mat[i-1], filenames_mat[i]) for i in range(1, len(filenames_mat))]\n",
    "\n",
    "input_folder_name = 'ISRwall/input/'"
   ]
  },
  {
   "cell_type": "code",
   "execution_count": 9,
   "metadata": {},
   "outputs": [
    {
     "name": "stdout",
     "output_type": "stream",
     "text": [
      "Matching points between 0001 and 0002: 213\n",
      "\n",
      "Matching points between 0002 and 0003: 68\n",
      "\n",
      "Matching points between 0003 and 0004: 71\n",
      "\n",
      "Matching points between 0004 and 0005: 48\n",
      "\n",
      "Matching points between 0005 and 0006: 7\n",
      "\n",
      "Matching points between 0006 and 0007: 10\n",
      "\n",
      "Matching points between 0007 and 0008: 15\n",
      "\n",
      "Matching points between 0008 and 0009: 26\n",
      "\n"
     ]
    }
   ],
   "source": [
    "matching_points_dict = dict()\n",
    "\n",
    "for i in range(len(filename_key_query_vec)):\n",
    "    data_key, data_query = load_data_query_key(filename_key_query_vec[i][0], filename_key_query_vec[i][1], input_folder_name)\n",
    "    \n",
    "    data_query_desc = data_query['desc']\n",
    "    data_query_kp = data_query['kp']\n",
    "\n",
    "    data_key_desc = data_key['desc']\n",
    "    data_key_kp = data_key['kp']\n",
    "    \n",
    "    matches = src2.knn_match_vectorized(data_query_desc, data_key_desc, k=2)\n",
    "    good_matches = src2.ratio_test(matches, ratio=0.25)\n",
    "\n",
    "    idx_query_vec = np.array([match.queryIdx for match in good_matches])\n",
    "    idx_key_vec = np.array([match.trainIdx for match in good_matches])\n",
    "\n",
    "    query_kp = data_query_kp[idx_query_vec, :].astype(np.uint16)\n",
    "    key_kp = data_key_kp[idx_key_vec, :].astype(np.uint16)\n",
    "    \n",
    "    matching_points_dict[filename_key_query_vec[i]] = (query_kp, key_kp)\n",
    "    # matching_points_vec[i, 0] = query_kp\n",
    "    # matching_points_vec[i, 1] = key_kp\n",
    "    \n",
    "    print(f\"Matching points between {filename_key_query_vec[i][0]} and {filename_key_query_vec[i][1]}: {len(query_kp)}\")\n",
    "    print()\n"
   ]
  },
  {
   "cell_type": "code",
   "execution_count": 10,
   "metadata": {},
   "outputs": [
    {
     "name": "stdout",
     "output_type": "stream",
     "text": [
      "[('0001', '0002'), ('0002', '0003'), ('0003', '0004'), ('0004', '0005'), ('0005', '0006'), ('0006', '0007'), ('0007', '0008'), ('0008', '0009')]\n"
     ]
    }
   ],
   "source": [
    "print(filename_key_query_vec)"
   ]
  },
  {
   "cell_type": "code",
   "execution_count": null,
   "metadata": {},
   "outputs": [],
   "source": [
    "## create homography with RANSAC\n",
    "## create the mulitple homographies\n",
    "## compute the error\n",
    "\n",
    "## check for better method to obtain the invariant features"
   ]
  }
 ],
 "metadata": {
  "kernelspec": {
   "display_name": "LLM",
   "language": "python",
   "name": "python3"
  },
  "language_info": {
   "codemirror_mode": {
    "name": "ipython",
    "version": 3
   },
   "file_extension": ".py",
   "mimetype": "text/x-python",
   "name": "python",
   "nbconvert_exporter": "python",
   "pygments_lexer": "ipython3",
   "version": "3.12.7"
  }
 },
 "nbformat": 4,
 "nbformat_minor": 2
}
